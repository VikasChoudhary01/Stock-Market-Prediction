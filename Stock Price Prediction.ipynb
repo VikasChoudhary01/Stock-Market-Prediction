{
 "cells": [
  {
   "cell_type": "markdown",
   "id": "28b416b1",
   "metadata": {},
   "source": [
    "### Stock  Market Prediction And Forecasting Using Stacked LSTM and Keras and Tensorflow"
   ]
  },
  {
   "cell_type": "markdown",
   "id": "4f563fa8",
   "metadata": {},
   "source": [
    "![](download.png)"
   ]
  },
  {
   "cell_type": "markdown",
   "id": "b9a5a24b",
   "metadata": {},
   "source": [
    "![](download.png)"
   ]
  },
  {
   "cell_type": "markdown",
   "id": "1e484b01",
   "metadata": {},
   "source": [
    "<img src = \"T.jpg\"/>"
   ]
  },
  {
   "cell_type": "markdown",
   "id": "11de354d",
   "metadata": {},
   "source": [
    "1.\tWe will Collect the Stock Data  - - AAPL (OCT 2016 - 20 OCT 2021) \n",
    "2.\tPreprocess the Data and Split the Data into Training and Testing\n",
    "3.\tCreate an Stacked LSTM model\n",
    "4.\tPredict the test Data And Plot the Output\n",
    "5.\tPredict the future 30 days and plot the output\n"
   ]
  },
  {
   "cell_type": "code",
   "execution_count": 1,
   "id": "2f8eb044",
   "metadata": {},
   "outputs": [
    {
     "name": "stdout",
     "output_type": "stream",
     "text": [
      "Requirement already satisfied: pandas_datareader in c:\\users\\lenovo\\anaconda3\\lib\\site-packages (0.10.0)\n",
      "Requirement already satisfied: lxml in c:\\users\\lenovo\\anaconda3\\lib\\site-packages (from pandas_datareader) (4.6.3)\n",
      "Requirement already satisfied: requests>=2.19.0 in c:\\users\\lenovo\\anaconda3\\lib\\site-packages (from pandas_datareader) (2.25.1)\n",
      "Requirement already satisfied: pandas>=0.23 in c:\\users\\lenovo\\anaconda3\\lib\\site-packages (from pandas_datareader) (1.2.4)\n",
      "Requirement already satisfied: numpy>=1.16.5 in c:\\users\\lenovo\\anaconda3\\lib\\site-packages (from pandas>=0.23->pandas_datareader) (1.19.5)\n",
      "Requirement already satisfied: pytz>=2017.3 in c:\\users\\lenovo\\anaconda3\\lib\\site-packages (from pandas>=0.23->pandas_datareader) (2021.1)\n",
      "Requirement already satisfied: python-dateutil>=2.7.3 in c:\\users\\lenovo\\anaconda3\\lib\\site-packages (from pandas>=0.23->pandas_datareader) (2.8.1)\n",
      "Requirement already satisfied: six>=1.5 in c:\\users\\lenovo\\anaconda3\\lib\\site-packages (from python-dateutil>=2.7.3->pandas>=0.23->pandas_datareader) (1.15.0)\n",
      "Requirement already satisfied: urllib3<1.27,>=1.21.1 in c:\\users\\lenovo\\anaconda3\\lib\\site-packages (from requests>=2.19.0->pandas_datareader) (1.26.4)\n",
      "Requirement already satisfied: idna<3,>=2.5 in c:\\users\\lenovo\\anaconda3\\lib\\site-packages (from requests>=2.19.0->pandas_datareader) (2.10)\n",
      "Requirement already satisfied: chardet<5,>=3.0.2 in c:\\users\\lenovo\\anaconda3\\lib\\site-packages (from requests>=2.19.0->pandas_datareader) (4.0.0)\n",
      "Requirement already satisfied: certifi>=2017.4.17 in c:\\users\\lenovo\\anaconda3\\lib\\site-packages (from requests>=2.19.0->pandas_datareader) (2020.12.5)\n"
     ]
    }
   ],
   "source": [
    "!pip install pandas_datareader"
   ]
  },
  {
   "cell_type": "code",
   "execution_count": 2,
   "id": "b44e0794",
   "metadata": {},
   "outputs": [],
   "source": [
    "# Data Collection\n",
    "import pandas_datareader as pdr"
   ]
  },
  {
   "cell_type": "code",
   "execution_count": 3,
   "id": "31b1f413",
   "metadata": {},
   "outputs": [],
   "source": [
    "key=\"ad0b50dc21508ca410723cd23f3e11785631ab17\""
   ]
  },
  {
   "cell_type": "code",
   "execution_count": 4,
   "id": "dd628b2e",
   "metadata": {},
   "outputs": [],
   "source": [
    "df = pdr.get_data_tiingo('AAPL',api_key=key)"
   ]
  },
  {
   "cell_type": "code",
   "execution_count": 5,
   "id": "27f6237d",
   "metadata": {},
   "outputs": [],
   "source": [
    "df.to_csv('AAPL.csv')"
   ]
  },
  {
   "cell_type": "code",
   "execution_count": 6,
   "id": "3c76e2a0",
   "metadata": {},
   "outputs": [],
   "source": [
    "import pandas as pd"
   ]
  },
  {
   "cell_type": "code",
   "execution_count": 7,
   "id": "bdb50101",
   "metadata": {},
   "outputs": [],
   "source": [
    "df = pd.read_csv('AAPL.csv')"
   ]
  },
  {
   "cell_type": "code",
   "execution_count": 8,
   "id": "72a98c34",
   "metadata": {},
   "outputs": [
    {
     "data": {
      "text/html": [
       "<div>\n",
       "<style scoped>\n",
       "    .dataframe tbody tr th:only-of-type {\n",
       "        vertical-align: middle;\n",
       "    }\n",
       "\n",
       "    .dataframe tbody tr th {\n",
       "        vertical-align: top;\n",
       "    }\n",
       "\n",
       "    .dataframe thead th {\n",
       "        text-align: right;\n",
       "    }\n",
       "</style>\n",
       "<table border=\"1\" class=\"dataframe\">\n",
       "  <thead>\n",
       "    <tr style=\"text-align: right;\">\n",
       "      <th></th>\n",
       "      <th>symbol</th>\n",
       "      <th>date</th>\n",
       "      <th>close</th>\n",
       "      <th>high</th>\n",
       "      <th>low</th>\n",
       "      <th>open</th>\n",
       "      <th>volume</th>\n",
       "      <th>adjClose</th>\n",
       "      <th>adjHigh</th>\n",
       "      <th>adjLow</th>\n",
       "      <th>adjOpen</th>\n",
       "      <th>adjVolume</th>\n",
       "      <th>divCash</th>\n",
       "      <th>splitFactor</th>\n",
       "    </tr>\n",
       "  </thead>\n",
       "  <tbody>\n",
       "    <tr>\n",
       "      <th>0</th>\n",
       "      <td>AAPL</td>\n",
       "      <td>2016-10-24 00:00:00+00:00</td>\n",
       "      <td>117.65</td>\n",
       "      <td>117.74</td>\n",
       "      <td>117.00</td>\n",
       "      <td>117.10</td>\n",
       "      <td>23538673</td>\n",
       "      <td>27.579252</td>\n",
       "      <td>27.600350</td>\n",
       "      <td>27.426880</td>\n",
       "      <td>27.450322</td>\n",
       "      <td>94154692</td>\n",
       "      <td>0.0</td>\n",
       "      <td>1.0</td>\n",
       "    </tr>\n",
       "    <tr>\n",
       "      <th>1</th>\n",
       "      <td>AAPL</td>\n",
       "      <td>2016-10-25 00:00:00+00:00</td>\n",
       "      <td>118.25</td>\n",
       "      <td>118.36</td>\n",
       "      <td>117.31</td>\n",
       "      <td>117.95</td>\n",
       "      <td>48128970</td>\n",
       "      <td>27.719903</td>\n",
       "      <td>27.745689</td>\n",
       "      <td>27.499550</td>\n",
       "      <td>27.649577</td>\n",
       "      <td>192515880</td>\n",
       "      <td>0.0</td>\n",
       "      <td>1.0</td>\n",
       "    </tr>\n",
       "    <tr>\n",
       "      <th>2</th>\n",
       "      <td>AAPL</td>\n",
       "      <td>2016-10-26 00:00:00+00:00</td>\n",
       "      <td>115.59</td>\n",
       "      <td>115.70</td>\n",
       "      <td>113.31</td>\n",
       "      <td>114.31</td>\n",
       "      <td>66134219</td>\n",
       "      <td>27.096351</td>\n",
       "      <td>27.122137</td>\n",
       "      <td>26.561879</td>\n",
       "      <td>26.796297</td>\n",
       "      <td>264536876</td>\n",
       "      <td>0.0</td>\n",
       "      <td>1.0</td>\n",
       "    </tr>\n",
       "    <tr>\n",
       "      <th>3</th>\n",
       "      <td>AAPL</td>\n",
       "      <td>2016-10-27 00:00:00+00:00</td>\n",
       "      <td>114.48</td>\n",
       "      <td>115.86</td>\n",
       "      <td>114.10</td>\n",
       "      <td>115.39</td>\n",
       "      <td>34562045</td>\n",
       "      <td>26.836148</td>\n",
       "      <td>27.159644</td>\n",
       "      <td>26.747069</td>\n",
       "      <td>27.049468</td>\n",
       "      <td>138248180</td>\n",
       "      <td>0.0</td>\n",
       "      <td>1.0</td>\n",
       "    </tr>\n",
       "    <tr>\n",
       "      <th>4</th>\n",
       "      <td>AAPL</td>\n",
       "      <td>2016-10-28 00:00:00+00:00</td>\n",
       "      <td>113.72</td>\n",
       "      <td>115.21</td>\n",
       "      <td>113.45</td>\n",
       "      <td>113.87</td>\n",
       "      <td>37861662</td>\n",
       "      <td>26.657990</td>\n",
       "      <td>27.007273</td>\n",
       "      <td>26.594697</td>\n",
       "      <td>26.693153</td>\n",
       "      <td>151446648</td>\n",
       "      <td>0.0</td>\n",
       "      <td>1.0</td>\n",
       "    </tr>\n",
       "  </tbody>\n",
       "</table>\n",
       "</div>"
      ],
      "text/plain": [
       "  symbol                       date   close    high     low    open    volume  \\\n",
       "0   AAPL  2016-10-24 00:00:00+00:00  117.65  117.74  117.00  117.10  23538673   \n",
       "1   AAPL  2016-10-25 00:00:00+00:00  118.25  118.36  117.31  117.95  48128970   \n",
       "2   AAPL  2016-10-26 00:00:00+00:00  115.59  115.70  113.31  114.31  66134219   \n",
       "3   AAPL  2016-10-27 00:00:00+00:00  114.48  115.86  114.10  115.39  34562045   \n",
       "4   AAPL  2016-10-28 00:00:00+00:00  113.72  115.21  113.45  113.87  37861662   \n",
       "\n",
       "    adjClose    adjHigh     adjLow    adjOpen  adjVolume  divCash  splitFactor  \n",
       "0  27.579252  27.600350  27.426880  27.450322   94154692      0.0          1.0  \n",
       "1  27.719903  27.745689  27.499550  27.649577  192515880      0.0          1.0  \n",
       "2  27.096351  27.122137  26.561879  26.796297  264536876      0.0          1.0  \n",
       "3  26.836148  27.159644  26.747069  27.049468  138248180      0.0          1.0  \n",
       "4  26.657990  27.007273  26.594697  26.693153  151446648      0.0          1.0  "
      ]
     },
     "execution_count": 8,
     "metadata": {},
     "output_type": "execute_result"
    }
   ],
   "source": [
    "df.head()"
   ]
  },
  {
   "cell_type": "markdown",
   "id": "eb833a55",
   "metadata": {},
   "source": [
    "adjHigh - adjusted price amends a stock's price to reflect that stock's value after accounting for any corporate actions. It is often used when examining historical returns or doing a detailed analysis of past performance.\n",
    "\n",
    "spliFactor - The most common splits are 2-for-1 or 3-for-1, which means a stockholder gets two or three shares, respectively, for every share held."
   ]
  },
  {
   "cell_type": "code",
   "execution_count": 9,
   "id": "dc3207ac",
   "metadata": {},
   "outputs": [
    {
     "data": {
      "text/html": [
       "<div>\n",
       "<style scoped>\n",
       "    .dataframe tbody tr th:only-of-type {\n",
       "        vertical-align: middle;\n",
       "    }\n",
       "\n",
       "    .dataframe tbody tr th {\n",
       "        vertical-align: top;\n",
       "    }\n",
       "\n",
       "    .dataframe thead th {\n",
       "        text-align: right;\n",
       "    }\n",
       "</style>\n",
       "<table border=\"1\" class=\"dataframe\">\n",
       "  <thead>\n",
       "    <tr style=\"text-align: right;\">\n",
       "      <th></th>\n",
       "      <th>symbol</th>\n",
       "      <th>date</th>\n",
       "      <th>close</th>\n",
       "      <th>high</th>\n",
       "      <th>low</th>\n",
       "      <th>open</th>\n",
       "      <th>volume</th>\n",
       "      <th>adjClose</th>\n",
       "      <th>adjHigh</th>\n",
       "      <th>adjLow</th>\n",
       "      <th>adjOpen</th>\n",
       "      <th>adjVolume</th>\n",
       "      <th>divCash</th>\n",
       "      <th>splitFactor</th>\n",
       "    </tr>\n",
       "  </thead>\n",
       "  <tbody>\n",
       "    <tr>\n",
       "      <th>1253</th>\n",
       "      <td>AAPL</td>\n",
       "      <td>2021-10-15 00:00:00+00:00</td>\n",
       "      <td>144.84</td>\n",
       "      <td>144.8950</td>\n",
       "      <td>143.51</td>\n",
       "      <td>143.770</td>\n",
       "      <td>67940334</td>\n",
       "      <td>144.84</td>\n",
       "      <td>144.8950</td>\n",
       "      <td>143.51</td>\n",
       "      <td>143.770</td>\n",
       "      <td>67940334</td>\n",
       "      <td>0.0</td>\n",
       "      <td>1.0</td>\n",
       "    </tr>\n",
       "    <tr>\n",
       "      <th>1254</th>\n",
       "      <td>AAPL</td>\n",
       "      <td>2021-10-18 00:00:00+00:00</td>\n",
       "      <td>146.55</td>\n",
       "      <td>146.8400</td>\n",
       "      <td>143.16</td>\n",
       "      <td>143.445</td>\n",
       "      <td>85589175</td>\n",
       "      <td>146.55</td>\n",
       "      <td>146.8400</td>\n",
       "      <td>143.16</td>\n",
       "      <td>143.445</td>\n",
       "      <td>85589175</td>\n",
       "      <td>0.0</td>\n",
       "      <td>1.0</td>\n",
       "    </tr>\n",
       "    <tr>\n",
       "      <th>1255</th>\n",
       "      <td>AAPL</td>\n",
       "      <td>2021-10-19 00:00:00+00:00</td>\n",
       "      <td>148.76</td>\n",
       "      <td>149.1700</td>\n",
       "      <td>146.55</td>\n",
       "      <td>147.010</td>\n",
       "      <td>76378894</td>\n",
       "      <td>148.76</td>\n",
       "      <td>149.1700</td>\n",
       "      <td>146.55</td>\n",
       "      <td>147.010</td>\n",
       "      <td>76378894</td>\n",
       "      <td>0.0</td>\n",
       "      <td>1.0</td>\n",
       "    </tr>\n",
       "    <tr>\n",
       "      <th>1256</th>\n",
       "      <td>AAPL</td>\n",
       "      <td>2021-10-20 00:00:00+00:00</td>\n",
       "      <td>149.26</td>\n",
       "      <td>149.7539</td>\n",
       "      <td>148.12</td>\n",
       "      <td>148.700</td>\n",
       "      <td>58418788</td>\n",
       "      <td>149.26</td>\n",
       "      <td>149.7539</td>\n",
       "      <td>148.12</td>\n",
       "      <td>148.700</td>\n",
       "      <td>58418788</td>\n",
       "      <td>0.0</td>\n",
       "      <td>1.0</td>\n",
       "    </tr>\n",
       "    <tr>\n",
       "      <th>1257</th>\n",
       "      <td>AAPL</td>\n",
       "      <td>2021-10-21 00:00:00+00:00</td>\n",
       "      <td>149.48</td>\n",
       "      <td>149.6400</td>\n",
       "      <td>147.87</td>\n",
       "      <td>148.810</td>\n",
       "      <td>61420990</td>\n",
       "      <td>149.48</td>\n",
       "      <td>149.6400</td>\n",
       "      <td>147.87</td>\n",
       "      <td>148.810</td>\n",
       "      <td>61420990</td>\n",
       "      <td>0.0</td>\n",
       "      <td>1.0</td>\n",
       "    </tr>\n",
       "  </tbody>\n",
       "</table>\n",
       "</div>"
      ],
      "text/plain": [
       "     symbol                       date   close      high     low     open  \\\n",
       "1253   AAPL  2021-10-15 00:00:00+00:00  144.84  144.8950  143.51  143.770   \n",
       "1254   AAPL  2021-10-18 00:00:00+00:00  146.55  146.8400  143.16  143.445   \n",
       "1255   AAPL  2021-10-19 00:00:00+00:00  148.76  149.1700  146.55  147.010   \n",
       "1256   AAPL  2021-10-20 00:00:00+00:00  149.26  149.7539  148.12  148.700   \n",
       "1257   AAPL  2021-10-21 00:00:00+00:00  149.48  149.6400  147.87  148.810   \n",
       "\n",
       "        volume  adjClose   adjHigh  adjLow  adjOpen  adjVolume  divCash  \\\n",
       "1253  67940334    144.84  144.8950  143.51  143.770   67940334      0.0   \n",
       "1254  85589175    146.55  146.8400  143.16  143.445   85589175      0.0   \n",
       "1255  76378894    148.76  149.1700  146.55  147.010   76378894      0.0   \n",
       "1256  58418788    149.26  149.7539  148.12  148.700   58418788      0.0   \n",
       "1257  61420990    149.48  149.6400  147.87  148.810   61420990      0.0   \n",
       "\n",
       "      splitFactor  \n",
       "1253          1.0  \n",
       "1254          1.0  \n",
       "1255          1.0  \n",
       "1256          1.0  \n",
       "1257          1.0  "
      ]
     },
     "execution_count": 9,
     "metadata": {},
     "output_type": "execute_result"
    }
   ],
   "source": [
    "df.tail()"
   ]
  },
  {
   "cell_type": "code",
   "execution_count": 10,
   "id": "5af67f6c",
   "metadata": {},
   "outputs": [
    {
     "data": {
      "text/plain": [
       "(1258, 14)"
      ]
     },
     "execution_count": 10,
     "metadata": {},
     "output_type": "execute_result"
    }
   ],
   "source": [
    "df.shape"
   ]
  },
  {
   "cell_type": "code",
   "execution_count": 11,
   "id": "9053cafd",
   "metadata": {},
   "outputs": [],
   "source": [
    "df1 = df.reset_index()['close']"
   ]
  },
  {
   "cell_type": "code",
   "execution_count": 12,
   "id": "6abff802",
   "metadata": {},
   "outputs": [
    {
     "data": {
      "text/plain": [
       "0       117.65\n",
       "1       118.25\n",
       "2       115.59\n",
       "3       114.48\n",
       "4       113.72\n",
       "         ...  \n",
       "1253    144.84\n",
       "1254    146.55\n",
       "1255    148.76\n",
       "1256    149.26\n",
       "1257    149.48\n",
       "Name: close, Length: 1258, dtype: float64"
      ]
     },
     "execution_count": 12,
     "metadata": {},
     "output_type": "execute_result"
    }
   ],
   "source": [
    "df1"
   ]
  },
  {
   "cell_type": "code",
   "execution_count": 13,
   "id": "64f1bdf1",
   "metadata": {},
   "outputs": [
    {
     "data": {
      "text/plain": [
       "(1258,)"
      ]
     },
     "execution_count": 13,
     "metadata": {},
     "output_type": "execute_result"
    }
   ],
   "source": [
    "df1.shape"
   ]
  },
  {
   "cell_type": "code",
   "execution_count": 14,
   "id": "61e4b312",
   "metadata": {},
   "outputs": [
    {
     "data": {
      "text/plain": [
       "[<matplotlib.lines.Line2D at 0x1e071bbcc70>]"
      ]
     },
     "execution_count": 14,
     "metadata": {},
     "output_type": "execute_result"
    },
    {
     "data": {
      "image/png": "[encoded data removed]",
      "text/plain": [
       "<Figure size 432x288 with 1 Axes>"
      ]
     },
     "metadata": {
      "needs_background": "light"
     },
     "output_type": "display_data"
    }
   ],
   "source": [
    "import matplotlib.pyplot as plt\n",
    "plt.plot(df1)"
   ]
  },
  {
   "cell_type": "markdown",
   "id": "40a38779",
   "metadata": {},
   "source": [
    "### LSTM are sensitive to the scale of the data , so we apply MinMax Scaler"
   ]
  },
  {
   "cell_type": "code",
   "execution_count": 15,
   "id": "de76a83d",
   "metadata": {},
   "outputs": [],
   "source": [
    "import numpy as np\n",
    "\n",
    "from sklearn.preprocessing import MinMaxScaler\n",
    "scaler=MinMaxScaler(feature_range=(0,1))\n",
    "df1=scaler.fit_transform(np.array(df1).reshape(-1,1))"
   ]
  },
  {
   "cell_type": "code",
   "execution_count": 16,
   "id": "0b8554ee",
   "metadata": {},
   "outputs": [
    {
     "data": {
      "text/plain": [
       "(1258, 1)"
      ]
     },
     "execution_count": 16,
     "metadata": {},
     "output_type": "execute_result"
    }
   ],
   "source": [
    "df1.shape"
   ]
  },
  {
   "cell_type": "code",
   "execution_count": 17,
   "id": "e2145991",
   "metadata": {},
   "outputs": [
    {
     "data": {
      "text/plain": [
       "array([[0.02982167],\n",
       "       [0.03132025],\n",
       "       [0.02467656],\n",
       "       ...,\n",
       "       [0.10752285],\n",
       "       [0.10877167],\n",
       "       [0.10932114]])"
      ]
     },
     "execution_count": 17,
     "metadata": {},
     "output_type": "execute_result"
    }
   ],
   "source": [
    "df1"
   ]
  },
  {
   "cell_type": "code",
   "execution_count": 18,
   "id": "33d8e858",
   "metadata": {},
   "outputs": [],
   "source": [
    "## Splitting data into train test split\n",
    "training_size = int(len(df1)*0.65)\n",
    "test_size = len(df1)-training_size\n",
    "train_data,test_data=df1[0:training_size,:],df1[training_size:len(df1),:1]"
   ]
  },
  {
   "cell_type": "code",
   "execution_count": 19,
   "id": "a2c4d623",
   "metadata": {},
   "outputs": [
    {
     "data": {
      "text/plain": [
       "(817, 441)"
      ]
     },
     "execution_count": 19,
     "metadata": {},
     "output_type": "execute_result"
    }
   ],
   "source": [
    "## Length pf the training data and testing data\n",
    "training_size,test_size"
   ]
  },
  {
   "cell_type": "code",
   "execution_count": 20,
   "id": "e3981bfc",
   "metadata": {},
   "outputs": [],
   "source": [
    "## convert an array of values into a dataset matrix\n",
    "\n",
    "import numpy\n",
    "\n",
    "def create_dataset(dataset,time_step=1):\n",
    "    dataX, dataY = [], []\n",
    "    for i in range(len(dataset)-time_step-1):\n",
    "        a = dataset[i:(i+time_step),0]   ## i = 0 , 0,1,2,3...99\n",
    "        dataX.append(a)\n",
    "        dataY.append(dataset[i + time_step, 0])\n",
    "    return numpy.array(dataX), numpy.array(dataY)"
   ]
  },
  {
   "cell_type": "code",
   "execution_count": 21,
   "id": "3446f653",
   "metadata": {},
   "outputs": [],
   "source": [
    "## reshape into X=t,t+1,t+2,t+4 and Y=t+4\n",
    "time_step = 100\n",
    "X_train, y_train = create_dataset(train_data,time_step)\n",
    "X_test, y_test = create_dataset(test_data,time_step)"
   ]
  },
  {
   "cell_type": "code",
   "execution_count": 22,
   "id": "c913e524",
   "metadata": {},
   "outputs": [
    {
     "name": "stdout",
     "output_type": "stream",
     "text": [
      "(716, 100)\n",
      "(716,)\n"
     ]
    },
    {
     "data": {
      "text/plain": [
       "(None, None)"
      ]
     },
     "execution_count": 22,
     "metadata": {},
     "output_type": "execute_result"
    }
   ],
   "source": [
    "print(X_train.shape),print(y_train.shape)"
   ]
  },
  {
   "cell_type": "code",
   "execution_count": 23,
   "id": "8e062d2f",
   "metadata": {},
   "outputs": [
    {
     "name": "stdout",
     "output_type": "stream",
     "text": [
      "(340, 100)\n",
      "(340,)\n"
     ]
    },
    {
     "data": {
      "text/plain": [
       "(None, None)"
      ]
     },
     "execution_count": 23,
     "metadata": {},
     "output_type": "execute_result"
    }
   ],
   "source": [
    "print(X_test.shape),print(y_test.shape)"
   ]
  },
  {
   "cell_type": "code",
   "execution_count": 45,
   "id": "6db76a21",
   "metadata": {},
   "outputs": [],
   "source": [
    "## Reshape input to be [sample, time steps, features] which is required for LSTM\n",
    "X_train = X_train.reshape(X_train.shape[0],X_train.shape[1], 1) ## we create three dimensional we are giving X_train.shape[1],1 as input to LSTM\n",
    "X_test = X_test.reshape(X_test.shape[0],X_test.shape[1], 1)"
   ]
  },
  {
   "cell_type": "code",
   "execution_count": 25,
   "id": "c5c532de",
   "metadata": {},
   "outputs": [],
   "source": [
    "## Create the Stacked LSTM model\n",
    "from tensorflow.keras.models import Sequential\n",
    "from tensorflow.keras.layers import Dense\n",
    "from tensorflow.keras.layers import LSTM"
   ]
  },
  {
   "cell_type": "code",
   "execution_count": 26,
   "id": "ce3d6100",
   "metadata": {},
   "outputs": [],
   "source": [
    "model=Sequential()\n",
    "model.add(LSTM(50,return_sequences=True,input_shape=(100,1))) ## 50 is hidden layer\n",
    "model.add(LSTM(50,return_sequences=True))  ## Stack LSTM one after other LSTM \n",
    "model.add(LSTM(50))\n",
    "model.add(Dense(1)) #final output\n",
    "model.compile(loss='mean_squared_error', optimizer='adam')"
   ]
  },
  {
   "cell_type": "code",
   "execution_count": 27,
   "id": "c40473e0",
   "metadata": {},
   "outputs": [
    {
     "name": "stdout",
     "output_type": "stream",
     "text": [
      "Model: \"sequential\"\n",
      "_________________________________________________________________\n",
      "Layer (type)                 Output Shape              Param #   \n",
      "=================================================================\n",
      "lstm (LSTM)                  (None, 100, 50)           10400     \n",
      "_________________________________________________________________\n",
      "lstm_1 (LSTM)                (None, 100, 50)           20200     \n",
      "_________________________________________________________________\n",
      "lstm_2 (LSTM)                (None, 50)                20200     \n",
      "_________________________________________________________________\n",
      "dense (Dense)                (None, 1)                 51        \n",
      "=================================================================\n",
      "Total params: 50,851\n",
      "Trainable params: 50,851\n",
      "Non-trainable params: 0\n",
      "_________________________________________________________________\n"
     ]
    }
   ],
   "source": [
    "model.summary() "
   ]
  },
  {
   "cell_type": "code",
   "execution_count": 28,
   "id": "0a3853e4",
   "metadata": {},
   "outputs": [
    {
     "name": "stdout",
     "output_type": "stream",
     "text": [
      "Epoch 1/100\n",
      "12/12 [==============================] - 13s 515ms/step - loss: 0.0136 - val_loss: 0.0306\n",
      "Epoch 2/100\n",
      "12/12 [==============================] - 3s 288ms/step - loss: 0.0034 - val_loss: 0.0249\n",
      "Epoch 3/100\n",
      "12/12 [==============================] - 3s 274ms/step - loss: 0.0015 - val_loss: 0.0220\n",
      "Epoch 4/100\n",
      "12/12 [==============================] - 3s 258ms/step - loss: 6.6447e-04 - val_loss: 0.0280\n",
      "Epoch 5/100\n",
      "12/12 [==============================] - 3s 243ms/step - loss: 5.6814e-04 - val_loss: 0.0313\n",
      "Epoch 6/100\n",
      "12/12 [==============================] - 3s 223ms/step - loss: 5.5066e-04 - val_loss: 0.0267\n",
      "Epoch 7/100\n",
      "12/12 [==============================] - 3s 233ms/step - loss: 5.1651e-04 - val_loss: 0.0260\n",
      "Epoch 8/100\n",
      "12/12 [==============================] - 3s 276ms/step - loss: 4.9116e-04 - val_loss: 0.0289\n",
      "Epoch 9/100\n",
      "12/12 [==============================] - 3s 244ms/step - loss: 4.7332e-04 - val_loss: 0.0284\n",
      "Epoch 10/100\n",
      "12/12 [==============================] - 3s 240ms/step - loss: 4.5554e-04 - val_loss: 0.0274\n",
      "Epoch 11/100\n",
      "12/12 [==============================] - 3s 241ms/step - loss: 4.2641e-04 - val_loss: 0.0247\n",
      "Epoch 12/100\n",
      "12/12 [==============================] - 3s 268ms/step - loss: 4.3808e-04 - val_loss: 0.0252\n",
      "Epoch 13/100\n",
      "12/12 [==============================] - 3s 272ms/step - loss: 4.0861e-04 - val_loss: 0.0256\n",
      "Epoch 14/100\n",
      "12/12 [==============================] - 3s 250ms/step - loss: 3.8416e-04 - val_loss: 0.0292\n",
      "Epoch 15/100\n",
      "12/12 [==============================] - 3s 238ms/step - loss: 3.7343e-04 - val_loss: 0.0263\n",
      "Epoch 16/100\n",
      "12/12 [==============================] - 3s 230ms/step - loss: 3.5098e-04 - val_loss: 0.0269\n",
      "Epoch 17/100\n",
      "12/12 [==============================] - 3s 227ms/step - loss: 3.3873e-04 - val_loss: 0.0239\n",
      "Epoch 18/100\n",
      "12/12 [==============================] - 3s 229ms/step - loss: 3.2875e-04 - val_loss: 0.0259\n",
      "Epoch 19/100\n",
      "12/12 [==============================] - 3s 221ms/step - loss: 3.2332e-04 - val_loss: 0.0253\n",
      "Epoch 20/100\n",
      "12/12 [==============================] - 3s 227ms/step - loss: 3.1922e-04 - val_loss: 0.0272\n",
      "Epoch 21/100\n",
      "12/12 [==============================] - 3s 244ms/step - loss: 3.0763e-04 - val_loss: 0.0236\n",
      "Epoch 22/100\n",
      "12/12 [==============================] - 3s 289ms/step - loss: 2.8942e-04 - val_loss: 0.0247\n",
      "Epoch 23/100\n",
      "12/12 [==============================] - 3s 231ms/step - loss: 3.0133e-04 - val_loss: 0.0218-\n",
      "Epoch 24/100\n",
      "12/12 [==============================] - 3s 224ms/step - loss: 3.2545e-04 - val_loss: 0.0271\n",
      "Epoch 25/100\n",
      "12/12 [==============================] - 3s 223ms/step - loss: 3.5460e-04 - val_loss: 0.0224\n",
      "Epoch 26/100\n",
      "12/12 [==============================] - 3s 236ms/step - loss: 2.9235e-04 - val_loss: 0.0208\n",
      "Epoch 27/100\n",
      "12/12 [==============================] - 3s 246ms/step - loss: 2.6660e-04 - val_loss: 0.0189\n",
      "Epoch 28/100\n",
      "12/12 [==============================] - 3s 226ms/step - loss: 2.6487e-04 - val_loss: 0.0184\n",
      "Epoch 29/100\n",
      "12/12 [==============================] - 3s 242ms/step - loss: 2.7117e-04 - val_loss: 0.0181\n",
      "Epoch 30/100\n",
      "12/12 [==============================] - 4s 299ms/step - loss: 2.6814e-04 - val_loss: 0.0225\n",
      "Epoch 31/100\n",
      "12/12 [==============================] - 4s 344ms/step - loss: 2.8275e-04 - val_loss: 0.0176\n",
      "Epoch 32/100\n",
      "12/12 [==============================] - 3s 255ms/step - loss: 2.4940e-04 - val_loss: 0.0186\n",
      "Epoch 33/100\n",
      "12/12 [==============================] - 3s 253ms/step - loss: 2.4691e-04 - val_loss: 0.0187\n",
      "Epoch 34/100\n",
      "12/12 [==============================] - 3s 232ms/step - loss: 2.4504e-04 - val_loss: 0.0156\n",
      "Epoch 35/100\n",
      "12/12 [==============================] - 3s 235ms/step - loss: 2.5107e-04 - val_loss: 0.0163\n",
      "Epoch 36/100\n",
      "12/12 [==============================] - 3s 227ms/step - loss: 2.4054e-04 - val_loss: 0.0167\n",
      "Epoch 37/100\n",
      "12/12 [==============================] - 3s 258ms/step - loss: 2.5105e-04 - val_loss: 0.0151\n",
      "Epoch 38/100\n",
      "12/12 [==============================] - 3s 249ms/step - loss: 2.3820e-04 - val_loss: 0.0144\n",
      "Epoch 39/100\n",
      "12/12 [==============================] - 3s 232ms/step - loss: 2.3389e-04 - val_loss: 0.0138\n",
      "Epoch 40/100\n",
      "12/12 [==============================] - 3s 236ms/step - loss: 2.3223e-04 - val_loss: 0.0125\n",
      "Epoch 41/100\n",
      "12/12 [==============================] - 3s 229ms/step - loss: 2.3208e-04 - val_loss: 0.0148\n",
      "Epoch 42/100\n",
      "12/12 [==============================] - 3s 263ms/step - loss: 2.3379e-04 - val_loss: 0.0117\n",
      "Epoch 43/100\n",
      "12/12 [==============================] - 3s 232ms/step - loss: 2.4214e-04 - val_loss: 0.0131\n",
      "Epoch 44/100\n",
      "12/12 [==============================] - 3s 227ms/step - loss: 2.2339e-04 - val_loss: 0.0117\n",
      "Epoch 45/100\n",
      "12/12 [==============================] - 3s 225ms/step - loss: 2.2681e-04 - val_loss: 0.0142\n",
      "Epoch 46/100\n",
      "12/12 [==============================] - 3s 229ms/step - loss: 2.3908e-04 - val_loss: 0.0121\n",
      "Epoch 47/100\n",
      "12/12 [==============================] - 3s 226ms/step - loss: 2.1017e-04 - val_loss: 0.0114\n",
      "Epoch 48/100\n",
      "12/12 [==============================] - 3s 225ms/step - loss: 2.2846e-04 - val_loss: 0.0115\n",
      "Epoch 49/100\n",
      "12/12 [==============================] - 3s 224ms/step - loss: 2.1339e-04 - val_loss: 0.0115\n",
      "Epoch 50/100\n",
      "12/12 [==============================] - 3s 224ms/step - loss: 2.1051e-04 - val_loss: 0.0115\n",
      "Epoch 51/100\n",
      "12/12 [==============================] - 3s 225ms/step - loss: 2.0803e-04 - val_loss: 0.0104\n",
      "Epoch 52/100\n",
      "12/12 [==============================] - 3s 224ms/step - loss: 2.2479e-04 - val_loss: 0.0108\n",
      "Epoch 53/100\n",
      "12/12 [==============================] - 3s 227ms/step - loss: 2.8403e-04 - val_loss: 0.0115\n",
      "Epoch 54/100\n",
      "12/12 [==============================] - 3s 254ms/step - loss: 2.4004e-04 - val_loss: 0.0127\n",
      "Epoch 55/100\n",
      "12/12 [==============================] - 3s 253ms/step - loss: 2.3681e-04 - val_loss: 0.0092\n",
      "Epoch 56/100\n",
      "12/12 [==============================] - 3s 236ms/step - loss: 2.1356e-04 - val_loss: 0.0105\n",
      "Epoch 57/100\n",
      "12/12 [==============================] - 3s 298ms/step - loss: 2.1255e-04 - val_loss: 0.0095\n",
      "Epoch 58/100\n",
      "12/12 [==============================] - 3s 274ms/step - loss: 2.6499e-04 - val_loss: 0.0119\n",
      "Epoch 59/100\n",
      "12/12 [==============================] - 3s 252ms/step - loss: 2.3998e-04 - val_loss: 0.0104\n",
      "Epoch 60/100\n",
      "12/12 [==============================] - 3s 269ms/step - loss: 2.0370e-04 - val_loss: 0.0100\n",
      "Epoch 61/100\n",
      "12/12 [==============================] - 3s 249ms/step - loss: 1.9031e-04 - val_loss: 0.0108\n",
      "Epoch 62/100\n",
      "12/12 [==============================] - 3s 226ms/step - loss: 1.8865e-04 - val_loss: 0.0104\n",
      "Epoch 63/100\n",
      "12/12 [==============================] - 3s 222ms/step - loss: 1.8714e-04 - val_loss: 0.0090\n",
      "Epoch 64/100\n",
      "12/12 [==============================] - 3s 237ms/step - loss: 2.0163e-04 - val_loss: 0.0099\n",
      "Epoch 65/100\n",
      "12/12 [==============================] - 3s 252ms/step - loss: 1.8302e-04 - val_loss: 0.0095\n",
      "Epoch 66/100\n",
      "12/12 [==============================] - 3s 254ms/step - loss: 1.9521e-04 - val_loss: 0.0101\n",
      "Epoch 67/100\n",
      "12/12 [==============================] - 3s 291ms/step - loss: 2.0017e-04 - val_loss: 0.0095\n",
      "Epoch 68/100\n",
      "12/12 [==============================] - 3s 234ms/step - loss: 1.7929e-04 - val_loss: 0.0091\n",
      "Epoch 69/100\n",
      "12/12 [==============================] - 3s 233ms/step - loss: 1.7922e-04 - val_loss: 0.0083\n",
      "Epoch 70/100\n",
      "12/12 [==============================] - 3s 237ms/step - loss: 1.9549e-04 - val_loss: 0.0106\n",
      "Epoch 71/100\n",
      "12/12 [==============================] - 3s 229ms/step - loss: 2.1308e-04 - val_loss: 0.0095\n",
      "Epoch 72/100\n",
      "12/12 [==============================] - 3s 229ms/step - loss: 1.8319e-04 - val_loss: 0.0084\n",
      "Epoch 73/100\n",
      "12/12 [==============================] - 3s 283ms/step - loss: 1.8151e-04 - val_loss: 0.0089\n",
      "Epoch 74/100\n",
      "12/12 [==============================] - 3s 253ms/step - loss: 1.7257e-04 - val_loss: 0.0087\n",
      "Epoch 75/100\n",
      "12/12 [==============================] - 3s 275ms/step - loss: 2.1265e-04 - val_loss: 0.0105\n",
      "Epoch 76/100\n",
      "12/12 [==============================] - 4s 336ms/step - loss: 2.1182e-04 - val_loss: 0.0082\n",
      "Epoch 77/100\n",
      "12/12 [==============================] - 4s 312ms/step - loss: 1.7225e-04 - val_loss: 0.0078\n",
      "Epoch 78/100\n",
      "12/12 [==============================] - 4s 321ms/step - loss: 1.9850e-04 - val_loss: 0.0092\n",
      "Epoch 79/100\n",
      "12/12 [==============================] - 4s 304ms/step - loss: 1.8331e-04 - val_loss: 0.0083\n",
      "Epoch 80/100\n",
      "12/12 [==============================] - 3s 263ms/step - loss: 1.8228e-04 - val_loss: 0.0079\n",
      "Epoch 81/100\n",
      "12/12 [==============================] - 3s 257ms/step - loss: 1.5759e-04 - val_loss: 0.0083\n",
      "Epoch 82/100\n",
      "12/12 [==============================] - 4s 322ms/step - loss: 1.5870e-04 - val_loss: 0.0084\n",
      "Epoch 83/100\n",
      "12/12 [==============================] - 4s 306ms/step - loss: 1.6145e-04 - val_loss: 0.0083\n",
      "Epoch 84/100\n",
      "12/12 [==============================] - 3s 267ms/step - loss: 1.7155e-04 - val_loss: 0.0073\n",
      "Epoch 85/100\n",
      "12/12 [==============================] - 3s 267ms/step - loss: 1.7195e-04 - val_loss: 0.0074\n",
      "Epoch 86/100\n",
      "12/12 [==============================] - 3s 276ms/step - loss: 1.5096e-04 - val_loss: 0.0076\n",
      "Epoch 87/100\n",
      "12/12 [==============================] - 3s 273ms/step - loss: 1.5351e-04 - val_loss: 0.0082\n",
      "Epoch 88/100\n",
      "12/12 [==============================] - 3s 285ms/step - loss: 1.6881e-04 - val_loss: 0.0073\n",
      "Epoch 89/100\n",
      "12/12 [==============================] - 3s 261ms/step - loss: 1.5842e-04 - val_loss: 0.0068\n",
      "Epoch 90/100\n",
      "12/12 [==============================] - 3s 255ms/step - loss: 1.5569e-04 - val_loss: 0.0073\n",
      "Epoch 91/100\n",
      "12/12 [==============================] - 3s 248ms/step - loss: 1.5059e-04 - val_loss: 0.0076\n",
      "Epoch 92/100\n",
      "12/12 [==============================] - 3s 247ms/step - loss: 1.4310e-04 - val_loss: 0.0065\n",
      "Epoch 93/100\n",
      "12/12 [==============================] - 3s 235ms/step - loss: 1.5550e-04 - val_loss: 0.0063\n",
      "Epoch 94/100\n",
      "12/12 [==============================] - 3s 233ms/step - loss: 1.5469e-04 - val_loss: 0.0068\n",
      "Epoch 95/100\n",
      "12/12 [==============================] - 3s 270ms/step - loss: 1.3925e-04 - val_loss: 0.0063\n",
      "Epoch 96/100\n",
      "12/12 [==============================] - 3s 253ms/step - loss: 1.5530e-04 - val_loss: 0.0065\n",
      "Epoch 97/100\n",
      "12/12 [==============================] - 3s 250ms/step - loss: 1.4390e-04 - val_loss: 0.0068\n",
      "Epoch 98/100\n",
      "12/12 [==============================] - 3s 249ms/step - loss: 1.4858e-04 - val_loss: 0.0067\n",
      "Epoch 99/100\n",
      "12/12 [==============================] - 3s 245ms/step - loss: 1.6638e-04 - val_loss: 0.0064\n",
      "Epoch 100/100\n",
      "12/12 [==============================] - 3s 248ms/step - loss: 1.4645e-04 - val_loss: 0.0065\n"
     ]
    },
    {
     "data": {
      "text/plain": [
       "<keras.callbacks.History at 0x1e07bc91850>"
      ]
     },
     "execution_count": 28,
     "metadata": {},
     "output_type": "execute_result"
    }
   ],
   "source": [
    "model.fit(X_train,y_train,validation_data=(X_test,y_test),epochs=100,batch_size=64,verbose=1)"
   ]
  },
  {
   "cell_type": "code",
   "execution_count": 29,
   "id": "f02c8a96",
   "metadata": {},
   "outputs": [],
   "source": [
    "import tensorflow as tf"
   ]
  },
  {
   "cell_type": "code",
   "execution_count": 30,
   "id": "cf9b6176",
   "metadata": {},
   "outputs": [
    {
     "data": {
      "text/plain": [
       "'2.6.0'"
      ]
     },
     "execution_count": 30,
     "metadata": {},
     "output_type": "execute_result"
    }
   ],
   "source": [
    "tf.__version__"
   ]
  },
  {
   "cell_type": "code",
   "execution_count": 31,
   "id": "461ebbd1",
   "metadata": {},
   "outputs": [],
   "source": [
    "## Let Do the prediction and check performance metrics\n",
    "train_predict = model.predict(X_train)\n",
    "test_predict = model.predict(X_test)"
   ]
  },
  {
   "cell_type": "code",
   "execution_count": 32,
   "id": "efe84a17",
   "metadata": {},
   "outputs": [],
   "source": [
    "## Transformback to original form\n",
    "train_predict = scaler.inverse_transform(train_predict)\n",
    "test_predict = scaler.inverse_transform(test_predict)  ##test predict means output for test data"
   ]
  },
  {
   "cell_type": "code",
   "execution_count": 33,
   "id": "47925e5f",
   "metadata": {},
   "outputs": [
    {
     "data": {
      "text/plain": [
       "193.3791963086052"
      ]
     },
     "execution_count": 33,
     "metadata": {},
     "output_type": "execute_result"
    }
   ],
   "source": [
    "## Calculate RMSE performance metrics\n",
    "import math\n",
    "from sklearn.metrics import mean_squared_error\n",
    "math.sqrt(mean_squared_error(y_train,train_predict))"
   ]
  },
  {
   "cell_type": "code",
   "execution_count": 34,
   "id": "70d36929",
   "metadata": {},
   "outputs": [
    {
     "data": {
      "text/plain": [
       "210.98462661893123"
      ]
     },
     "execution_count": 34,
     "metadata": {},
     "output_type": "execute_result"
    }
   ],
   "source": [
    "## Test Data RMSE\n",
    "math.sqrt(mean_squared_error(y_test,test_predict))"
   ]
  },
  {
   "cell_type": "code",
   "execution_count": 35,
   "id": "464d3eee",
   "metadata": {},
   "outputs": [
    {
     "data": {
      "text/plain": [
       "<function matplotlib.pyplot.show(close=None, block=None)>"
      ]
     },
     "execution_count": 35,
     "metadata": {},
     "output_type": "execute_result"
    },
    {
     "data": {
      "image/png": "[encoded data removed]",
      "text/plain": [
       "<Figure size 432x288 with 1 Axes>"
      ]
     },
     "metadata": {
      "needs_background": "light"
     },
     "output_type": "display_data"
    }
   ],
   "source": [
    "## Plotting\n",
    "## Shift train predictions for plotting\n",
    "look_back=100\n",
    "trainPredictPlot = numpy.empty_like(df1)\n",
    "trainPredictPlot[:, :] = np.nan\n",
    "trainPredictPlot[look_back:len(train_predict)+look_back, :] = train_predict\n",
    "\n",
    "## Shift test predictions for plotting\n",
    "testPredictPlot = numpy.empty_like(df1)\n",
    "testPredictPlot[:, :] = numpy.nan\n",
    "testPredictPlot[len(train_predict)+(look_back*2)+1:len(df1)-1, :] = test_predict\n",
    "\n",
    "## Plot Baseline and Predictions\n",
    "plt.plot(scaler.inverse_transform(df1))\n",
    "plt.plot(trainPredictPlot)\n",
    "plt.plot(testPredictPlot)\n",
    "plt.show"
   ]
  },
  {
   "cell_type": "markdown",
   "id": "a2b632cb",
   "metadata": {},
   "source": [
    "Blue : Complete Dataset , \n",
    "\n",
    "Orange : Train Dataset Prediction , \n",
    "\n",
    "Green : Test Dataset Prediction"
   ]
  },
  {
   "cell_type": "markdown",
   "id": "0a26d6ec",
   "metadata": {},
   "source": [
    "# Predictions For Next 30 Days"
   ]
  },
  {
   "cell_type": "code",
   "execution_count": 36,
   "id": "32ec5a9a",
   "metadata": {},
   "outputs": [
    {
     "data": {
      "text/plain": [
       "441"
      ]
     },
     "execution_count": 36,
     "metadata": {},
     "output_type": "execute_result"
    }
   ],
   "source": [
    "len(test_data)"
   ]
  },
  {
   "cell_type": "code",
   "execution_count": 46,
   "id": "d21c6d99",
   "metadata": {},
   "outputs": [
    {
     "data": {
      "text/plain": [
       "(1, 100)"
      ]
     },
     "execution_count": 46,
     "metadata": {},
     "output_type": "execute_result"
    }
   ],
   "source": [
    "x_input = test_data [341:].reshape(1,-1)\n",
    "x_input.shape"
   ]
  },
  {
   "cell_type": "code",
   "execution_count": 47,
   "id": "dafc5725",
   "metadata": {},
   "outputs": [],
   "source": [
    "temp_input = list(x_input)\n",
    "temp_input = temp_input[0].tolist()"
   ]
  },
  {
   "cell_type": "code",
   "execution_count": 48,
   "id": "d29e3982",
   "metadata": {},
   "outputs": [
    {
     "name": "stdout",
     "output_type": "stream",
     "text": [
      "[0.10746528]\n",
      "101\n",
      "1 day input [0.04453269 0.05040212 0.05042709 0.0525251  0.05349918 0.0509516\n",
      " 0.05404865 0.06186623 0.05976822 0.06104201 0.06513812 0.06181627\n",
      " 0.06641191 0.07060792 0.06990859 0.06918427 0.06843499 0.07260602\n",
      " 0.07647735 0.07805085 0.07882512 0.08554373 0.09068885 0.0970578\n",
      " 0.09373595 0.09840651 0.09688296 0.09973026 0.10849693 0.10682352\n",
      " 0.10160348 0.09176283 0.10100405 0.09913083 0.1026275  0.10702333\n",
      " 0.10809731 0.10255258 0.09808182 0.09973026 0.10027973 0.09943054\n",
      " 0.10402618 0.10300215 0.10327689 0.10097907 0.10085419 0.09963035\n",
      " 0.10027973 0.10784754 0.10837205 0.11341725 0.11109446 0.10152855\n",
      " 0.10237774 0.10609921 0.1098956  0.10967081 0.1065238  0.10447575\n",
      " 0.10712323 0.11841251 0.11519057 0.11688896 0.11973625 0.12135971\n",
      " 0.12732904 0.12338279 0.12078525 0.10804736 0.10949598 0.10592437\n",
      " 0.10819721 0.10759778 0.10077926 0.09298666 0.0942105  0.10025476\n",
      " 0.10270243 0.10292722 0.0990559  0.09041411 0.09271192 0.08939008\n",
      " 0.09226235 0.08349568 0.088416   0.09063889 0.09386083 0.09288676\n",
      " 0.09266197 0.08941506 0.08791648 0.09503472 0.09773215 0.1020031\n",
      " 0.10752285 0.10877167 0.10932114 0.10746528]\n",
      "1 day output [[0.11012937]]\n",
      "2 day input [0.05040212 0.05042709 0.0525251  0.05349918 0.0509516  0.05404865\n",
      " 0.06186623 0.05976822 0.06104201 0.06513812 0.06181627 0.06641191\n",
      " 0.07060792 0.06990859 0.06918427 0.06843499 0.07260602 0.07647735\n",
      " 0.07805085 0.07882512 0.08554373 0.09068885 0.0970578  0.09373595\n",
      " 0.09840651 0.09688296 0.09973026 0.10849693 0.10682352 0.10160348\n",
      " 0.09176283 0.10100405 0.09913083 0.1026275  0.10702333 0.10809731\n",
      " 0.10255258 0.09808182 0.09973026 0.10027973 0.09943054 0.10402618\n",
      " 0.10300215 0.10327689 0.10097907 0.10085419 0.09963035 0.10027973\n",
      " 0.10784754 0.10837205 0.11341725 0.11109446 0.10152855 0.10237774\n",
      " 0.10609921 0.1098956  0.10967081 0.1065238  0.10447575 0.10712323\n",
      " 0.11841251 0.11519057 0.11688896 0.11973625 0.12135971 0.12732904\n",
      " 0.12338279 0.12078525 0.10804736 0.10949598 0.10592437 0.10819721\n",
      " 0.10759778 0.10077926 0.09298666 0.0942105  0.10025476 0.10270243\n",
      " 0.10292722 0.0990559  0.09041411 0.09271192 0.08939008 0.09226235\n",
      " 0.08349568 0.088416   0.09063889 0.09386083 0.09288676 0.09266197\n",
      " 0.08941506 0.08791648 0.09503472 0.09773215 0.1020031  0.10752285\n",
      " 0.10877167 0.10932114 0.10746528 0.11012937]\n",
      "2 day output [[0.11230766]]\n",
      "3 day input [0.05042709 0.0525251  0.05349918 0.0509516  0.05404865 0.06186623\n",
      " 0.05976822 0.06104201 0.06513812 0.06181627 0.06641191 0.07060792\n",
      " 0.06990859 0.06918427 0.06843499 0.07260602 0.07647735 0.07805085\n",
      " 0.07882512 0.08554373 0.09068885 0.0970578  0.09373595 0.09840651\n",
      " 0.09688296 0.09973026 0.10849693 0.10682352 0.10160348 0.09176283\n",
      " 0.10100405 0.09913083 0.1026275  0.10702333 0.10809731 0.10255258\n",
      " 0.09808182 0.09973026 0.10027973 0.09943054 0.10402618 0.10300215\n",
      " 0.10327689 0.10097907 0.10085419 0.09963035 0.10027973 0.10784754\n",
      " 0.10837205 0.11341725 0.11109446 0.10152855 0.10237774 0.10609921\n",
      " 0.1098956  0.10967081 0.1065238  0.10447575 0.10712323 0.11841251\n",
      " 0.11519057 0.11688896 0.11973625 0.12135971 0.12732904 0.12338279\n",
      " 0.12078525 0.10804736 0.10949598 0.10592437 0.10819721 0.10759778\n",
      " 0.10077926 0.09298666 0.0942105  0.10025476 0.10270243 0.10292722\n",
      " 0.0990559  0.09041411 0.09271192 0.08939008 0.09226235 0.08349568\n",
      " 0.088416   0.09063889 0.09386083 0.09288676 0.09266197 0.08941506\n",
      " 0.08791648 0.09503472 0.09773215 0.1020031  0.10752285 0.10877167\n",
      " 0.10932114 0.10746528 0.11012937 0.11230766]\n",
      "3 day output [[0.11407358]]\n",
      "4 day input [0.0525251  0.05349918 0.0509516  0.05404865 0.06186623 0.05976822\n",
      " 0.06104201 0.06513812 0.06181627 0.06641191 0.07060792 0.06990859\n",
      " 0.06918427 0.06843499 0.07260602 0.07647735 0.07805085 0.07882512\n",
      " 0.08554373 0.09068885 0.0970578  0.09373595 0.09840651 0.09688296\n",
      " 0.09973026 0.10849693 0.10682352 0.10160348 0.09176283 0.10100405\n",
      " 0.09913083 0.1026275  0.10702333 0.10809731 0.10255258 0.09808182\n",
      " 0.09973026 0.10027973 0.09943054 0.10402618 0.10300215 0.10327689\n",
      " 0.10097907 0.10085419 0.09963035 0.10027973 0.10784754 0.10837205\n",
      " 0.11341725 0.11109446 0.10152855 0.10237774 0.10609921 0.1098956\n",
      " 0.10967081 0.1065238  0.10447575 0.10712323 0.11841251 0.11519057\n",
      " 0.11688896 0.11973625 0.12135971 0.12732904 0.12338279 0.12078525\n",
      " 0.10804736 0.10949598 0.10592437 0.10819721 0.10759778 0.10077926\n",
      " 0.09298666 0.0942105  0.10025476 0.10270243 0.10292722 0.0990559\n",
      " 0.09041411 0.09271192 0.08939008 0.09226235 0.08349568 0.088416\n",
      " 0.09063889 0.09386083 0.09288676 0.09266197 0.08941506 0.08791648\n",
      " 0.09503472 0.09773215 0.1020031  0.10752285 0.10877167 0.10932114\n",
      " 0.10746528 0.11012937 0.11230766 0.11407358]\n",
      "4 day output [[0.11555596]]\n",
      "5 day input [0.05349918 0.0509516  0.05404865 0.06186623 0.05976822 0.06104201\n",
      " 0.06513812 0.06181627 0.06641191 0.07060792 0.06990859 0.06918427\n",
      " 0.06843499 0.07260602 0.07647735 0.07805085 0.07882512 0.08554373\n",
      " 0.09068885 0.0970578  0.09373595 0.09840651 0.09688296 0.09973026\n",
      " 0.10849693 0.10682352 0.10160348 0.09176283 0.10100405 0.09913083\n",
      " 0.1026275  0.10702333 0.10809731 0.10255258 0.09808182 0.09973026\n",
      " 0.10027973 0.09943054 0.10402618 0.10300215 0.10327689 0.10097907\n",
      " 0.10085419 0.09963035 0.10027973 0.10784754 0.10837205 0.11341725\n",
      " 0.11109446 0.10152855 0.10237774 0.10609921 0.1098956  0.10967081\n",
      " 0.1065238  0.10447575 0.10712323 0.11841251 0.11519057 0.11688896\n",
      " 0.11973625 0.12135971 0.12732904 0.12338279 0.12078525 0.10804736\n",
      " 0.10949598 0.10592437 0.10819721 0.10759778 0.10077926 0.09298666\n",
      " 0.0942105  0.10025476 0.10270243 0.10292722 0.0990559  0.09041411\n",
      " 0.09271192 0.08939008 0.09226235 0.08349568 0.088416   0.09063889\n",
      " 0.09386083 0.09288676 0.09266197 0.08941506 0.08791648 0.09503472\n",
      " 0.09773215 0.1020031  0.10752285 0.10877167 0.10932114 0.10746528\n",
      " 0.11012937 0.11230766 0.11407358 0.11555596]\n",
      "5 day output [[0.11687149]]\n",
      "6 day input [0.0509516  0.05404865 0.06186623 0.05976822 0.06104201 0.06513812\n",
      " 0.06181627 0.06641191 0.07060792 0.06990859 0.06918427 0.06843499\n",
      " 0.07260602 0.07647735 0.07805085 0.07882512 0.08554373 0.09068885\n",
      " 0.0970578  0.09373595 0.09840651 0.09688296 0.09973026 0.10849693\n",
      " 0.10682352 0.10160348 0.09176283 0.10100405 0.09913083 0.1026275\n",
      " 0.10702333 0.10809731 0.10255258 0.09808182 0.09973026 0.10027973\n",
      " 0.09943054 0.10402618 0.10300215 0.10327689 0.10097907 0.10085419\n",
      " 0.09963035 0.10027973 0.10784754 0.10837205 0.11341725 0.11109446\n",
      " 0.10152855 0.10237774 0.10609921 0.1098956  0.10967081 0.1065238\n",
      " 0.10447575 0.10712323 0.11841251 0.11519057 0.11688896 0.11973625\n",
      " 0.12135971 0.12732904 0.12338279 0.12078525 0.10804736 0.10949598\n",
      " 0.10592437 0.10819721 0.10759778 0.10077926 0.09298666 0.0942105\n",
      " 0.10025476 0.10270243 0.10292722 0.0990559  0.09041411 0.09271192\n",
      " 0.08939008 0.09226235 0.08349568 0.088416   0.09063889 0.09386083\n",
      " 0.09288676 0.09266197 0.08941506 0.08791648 0.09503472 0.09773215\n",
      " 0.1020031  0.10752285 0.10877167 0.10932114 0.10746528 0.11012937\n",
      " 0.11230766 0.11407358 0.11555596 0.11687149]\n",
      "6 day output [[0.11810321]]\n",
      "7 day input [0.05404865 0.06186623 0.05976822 0.06104201 0.06513812 0.06181627\n",
      " 0.06641191 0.07060792 0.06990859 0.06918427 0.06843499 0.07260602\n",
      " 0.07647735 0.07805085 0.07882512 0.08554373 0.09068885 0.0970578\n",
      " 0.09373595 0.09840651 0.09688296 0.09973026 0.10849693 0.10682352\n",
      " 0.10160348 0.09176283 0.10100405 0.09913083 0.1026275  0.10702333\n",
      " 0.10809731 0.10255258 0.09808182 0.09973026 0.10027973 0.09943054\n",
      " 0.10402618 0.10300215 0.10327689 0.10097907 0.10085419 0.09963035\n",
      " 0.10027973 0.10784754 0.10837205 0.11341725 0.11109446 0.10152855\n",
      " 0.10237774 0.10609921 0.1098956  0.10967081 0.1065238  0.10447575\n",
      " 0.10712323 0.11841251 0.11519057 0.11688896 0.11973625 0.12135971\n",
      " 0.12732904 0.12338279 0.12078525 0.10804736 0.10949598 0.10592437\n",
      " 0.10819721 0.10759778 0.10077926 0.09298666 0.0942105  0.10025476\n",
      " 0.10270243 0.10292722 0.0990559  0.09041411 0.09271192 0.08939008\n",
      " 0.09226235 0.08349568 0.088416   0.09063889 0.09386083 0.09288676\n",
      " 0.09266197 0.08941506 0.08791648 0.09503472 0.09773215 0.1020031\n",
      " 0.10752285 0.10877167 0.10932114 0.10746528 0.11012937 0.11230766\n",
      " 0.11407358 0.11555596 0.11687149 0.11810321]\n",
      "7 day output [[0.11930165]]\n",
      "8 day input [0.06186623 0.05976822 0.06104201 0.06513812 0.06181627 0.06641191\n",
      " 0.07060792 0.06990859 0.06918427 0.06843499 0.07260602 0.07647735\n",
      " 0.07805085 0.07882512 0.08554373 0.09068885 0.0970578  0.09373595\n",
      " 0.09840651 0.09688296 0.09973026 0.10849693 0.10682352 0.10160348\n",
      " 0.09176283 0.10100405 0.09913083 0.1026275  0.10702333 0.10809731\n",
      " 0.10255258 0.09808182 0.09973026 0.10027973 0.09943054 0.10402618\n",
      " 0.10300215 0.10327689 0.10097907 0.10085419 0.09963035 0.10027973\n",
      " 0.10784754 0.10837205 0.11341725 0.11109446 0.10152855 0.10237774\n",
      " 0.10609921 0.1098956  0.10967081 0.1065238  0.10447575 0.10712323\n",
      " 0.11841251 0.11519057 0.11688896 0.11973625 0.12135971 0.12732904\n",
      " 0.12338279 0.12078525 0.10804736 0.10949598 0.10592437 0.10819721\n",
      " 0.10759778 0.10077926 0.09298666 0.0942105  0.10025476 0.10270243\n",
      " 0.10292722 0.0990559  0.09041411 0.09271192 0.08939008 0.09226235\n",
      " 0.08349568 0.088416   0.09063889 0.09386083 0.09288676 0.09266197\n",
      " 0.08941506 0.08791648 0.09503472 0.09773215 0.1020031  0.10752285\n",
      " 0.10877167 0.10932114 0.10746528 0.11012937 0.11230766 0.11407358\n",
      " 0.11555596 0.11687149 0.11810321 0.11930165]\n",
      "8 day output [[0.12049423]]\n",
      "9 day input [0.05976822 0.06104201 0.06513812 0.06181627 0.06641191 0.07060792\n",
      " 0.06990859 0.06918427 0.06843499 0.07260602 0.07647735 0.07805085\n",
      " 0.07882512 0.08554373 0.09068885 0.0970578  0.09373595 0.09840651\n",
      " 0.09688296 0.09973026 0.10849693 0.10682352 0.10160348 0.09176283\n",
      " 0.10100405 0.09913083 0.1026275  0.10702333 0.10809731 0.10255258\n",
      " 0.09808182 0.09973026 0.10027973 0.09943054 0.10402618 0.10300215\n",
      " 0.10327689 0.10097907 0.10085419 0.09963035 0.10027973 0.10784754\n",
      " 0.10837205 0.11341725 0.11109446 0.10152855 0.10237774 0.10609921\n",
      " 0.1098956  0.10967081 0.1065238  0.10447575 0.10712323 0.11841251\n",
      " 0.11519057 0.11688896 0.11973625 0.12135971 0.12732904 0.12338279\n",
      " 0.12078525 0.10804736 0.10949598 0.10592437 0.10819721 0.10759778\n",
      " 0.10077926 0.09298666 0.0942105  0.10025476 0.10270243 0.10292722\n",
      " 0.0990559  0.09041411 0.09271192 0.08939008 0.09226235 0.08349568\n",
      " 0.088416   0.09063889 0.09386083 0.09288676 0.09266197 0.08941506\n",
      " 0.08791648 0.09503472 0.09773215 0.1020031  0.10752285 0.10877167\n",
      " 0.10932114 0.10746528 0.11012937 0.11230766 0.11407358 0.11555596\n",
      " 0.11687149 0.11810321 0.11930165 0.12049423]\n",
      "9 day output [[0.12169459]]\n",
      "10 day input [0.06104201 0.06513812 0.06181627 0.06641191 0.07060792 0.06990859\n",
      " 0.06918427 0.06843499 0.07260602 0.07647735 0.07805085 0.07882512\n",
      " 0.08554373 0.09068885 0.0970578  0.09373595 0.09840651 0.09688296\n",
      " 0.09973026 0.10849693 0.10682352 0.10160348 0.09176283 0.10100405\n",
      " 0.09913083 0.1026275  0.10702333 0.10809731 0.10255258 0.09808182\n",
      " 0.09973026 0.10027973 0.09943054 0.10402618 0.10300215 0.10327689\n",
      " 0.10097907 0.10085419 0.09963035 0.10027973 0.10784754 0.10837205\n",
      " 0.11341725 0.11109446 0.10152855 0.10237774 0.10609921 0.1098956\n",
      " 0.10967081 0.1065238  0.10447575 0.10712323 0.11841251 0.11519057\n",
      " 0.11688896 0.11973625 0.12135971 0.12732904 0.12338279 0.12078525\n",
      " 0.10804736 0.10949598 0.10592437 0.10819721 0.10759778 0.10077926\n",
      " 0.09298666 0.0942105  0.10025476 0.10270243 0.10292722 0.0990559\n",
      " 0.09041411 0.09271192 0.08939008 0.09226235 0.08349568 0.088416\n",
      " 0.09063889 0.09386083 0.09288676 0.09266197 0.08941506 0.08791648\n",
      " 0.09503472 0.09773215 0.1020031  0.10752285 0.10877167 0.10932114\n",
      " 0.10746528 0.11012937 0.11230766 0.11407358 0.11555596 0.11687149\n",
      " 0.11810321 0.11930165 0.12049423 0.12169459]\n",
      "10 day output [[0.12290937]]\n",
      "11 day input [0.06513812 0.06181627 0.06641191 0.07060792 0.06990859 0.06918427\n",
      " 0.06843499 0.07260602 0.07647735 0.07805085 0.07882512 0.08554373\n",
      " 0.09068885 0.0970578  0.09373595 0.09840651 0.09688296 0.09973026\n",
      " 0.10849693 0.10682352 0.10160348 0.09176283 0.10100405 0.09913083\n",
      " 0.1026275  0.10702333 0.10809731 0.10255258 0.09808182 0.09973026\n",
      " 0.10027973 0.09943054 0.10402618 0.10300215 0.10327689 0.10097907\n",
      " 0.10085419 0.09963035 0.10027973 0.10784754 0.10837205 0.11341725\n",
      " 0.11109446 0.10152855 0.10237774 0.10609921 0.1098956  0.10967081\n",
      " 0.1065238  0.10447575 0.10712323 0.11841251 0.11519057 0.11688896\n",
      " 0.11973625 0.12135971 0.12732904 0.12338279 0.12078525 0.10804736\n",
      " 0.10949598 0.10592437 0.10819721 0.10759778 0.10077926 0.09298666\n",
      " 0.0942105  0.10025476 0.10270243 0.10292722 0.0990559  0.09041411\n",
      " 0.09271192 0.08939008 0.09226235 0.08349568 0.088416   0.09063889\n",
      " 0.09386083 0.09288676 0.09266197 0.08941506 0.08791648 0.09503472\n",
      " 0.09773215 0.1020031  0.10752285 0.10877167 0.10932114 0.10746528\n",
      " 0.11012937 0.11230766 0.11407358 0.11555596 0.11687149 0.11810321\n",
      " 0.11930165 0.12049423 0.12169459 0.12290937]\n",
      "11 day output [[0.12414194]]\n",
      "12 day input [0.06181627 0.06641191 0.07060792 0.06990859 0.06918427 0.06843499\n",
      " 0.07260602 0.07647735 0.07805085 0.07882512 0.08554373 0.09068885\n",
      " 0.0970578  0.09373595 0.09840651 0.09688296 0.09973026 0.10849693\n",
      " 0.10682352 0.10160348 0.09176283 0.10100405 0.09913083 0.1026275\n",
      " 0.10702333 0.10809731 0.10255258 0.09808182 0.09973026 0.10027973\n",
      " 0.09943054 0.10402618 0.10300215 0.10327689 0.10097907 0.10085419\n",
      " 0.09963035 0.10027973 0.10784754 0.10837205 0.11341725 0.11109446\n",
      " 0.10152855 0.10237774 0.10609921 0.1098956  0.10967081 0.1065238\n",
      " 0.10447575 0.10712323 0.11841251 0.11519057 0.11688896 0.11973625\n",
      " 0.12135971 0.12732904 0.12338279 0.12078525 0.10804736 0.10949598\n",
      " 0.10592437 0.10819721 0.10759778 0.10077926 0.09298666 0.0942105\n",
      " 0.10025476 0.10270243 0.10292722 0.0990559  0.09041411 0.09271192\n",
      " 0.08939008 0.09226235 0.08349568 0.088416   0.09063889 0.09386083\n",
      " 0.09288676 0.09266197 0.08941506 0.08791648 0.09503472 0.09773215\n",
      " 0.1020031  0.10752285 0.10877167 0.10932114 0.10746528 0.11012937\n",
      " 0.11230766 0.11407358 0.11555596 0.11687149 0.11810321 0.11930165\n",
      " 0.12049423 0.12169459 0.12290937 0.12414194]\n",
      "12 day output [[0.1253943]]\n",
      "13 day input [0.06641191 0.07060792 0.06990859 0.06918427 0.06843499 0.07260602\n",
      " 0.07647735 0.07805085 0.07882512 0.08554373 0.09068885 0.0970578\n",
      " 0.09373595 0.09840651 0.09688296 0.09973026 0.10849693 0.10682352\n",
      " 0.10160348 0.09176283 0.10100405 0.09913083 0.1026275  0.10702333\n",
      " 0.10809731 0.10255258 0.09808182 0.09973026 0.10027973 0.09943054\n",
      " 0.10402618 0.10300215 0.10327689 0.10097907 0.10085419 0.09963035\n",
      " 0.10027973 0.10784754 0.10837205 0.11341725 0.11109446 0.10152855\n",
      " 0.10237774 0.10609921 0.1098956  0.10967081 0.1065238  0.10447575\n",
      " 0.10712323 0.11841251 0.11519057 0.11688896 0.11973625 0.12135971\n",
      " 0.12732904 0.12338279 0.12078525 0.10804736 0.10949598 0.10592437\n",
      " 0.10819721 0.10759778 0.10077926 0.09298666 0.0942105  0.10025476\n",
      " 0.10270243 0.10292722 0.0990559  0.09041411 0.09271192 0.08939008\n",
      " 0.09226235 0.08349568 0.088416   0.09063889 0.09386083 0.09288676\n",
      " 0.09266197 0.08941506 0.08791648 0.09503472 0.09773215 0.1020031\n",
      " 0.10752285 0.10877167 0.10932114 0.10746528 0.11012937 0.11230766\n",
      " 0.11407358 0.11555596 0.11687149 0.11810321 0.11930165 0.12049423\n",
      " 0.12169459 0.12290937 0.12414194 0.1253943 ]\n",
      "13 day output [[0.12666753]]\n",
      "14 day input [0.07060792 0.06990859 0.06918427 0.06843499 0.07260602 0.07647735\n",
      " 0.07805085 0.07882512 0.08554373 0.09068885 0.0970578  0.09373595\n",
      " 0.09840651 0.09688296 0.09973026 0.10849693 0.10682352 0.10160348\n",
      " 0.09176283 0.10100405 0.09913083 0.1026275  0.10702333 0.10809731\n",
      " 0.10255258 0.09808182 0.09973026 0.10027973 0.09943054 0.10402618\n",
      " 0.10300215 0.10327689 0.10097907 0.10085419 0.09963035 0.10027973\n",
      " 0.10784754 0.10837205 0.11341725 0.11109446 0.10152855 0.10237774\n",
      " 0.10609921 0.1098956  0.10967081 0.1065238  0.10447575 0.10712323\n",
      " 0.11841251 0.11519057 0.11688896 0.11973625 0.12135971 0.12732904\n",
      " 0.12338279 0.12078525 0.10804736 0.10949598 0.10592437 0.10819721\n",
      " 0.10759778 0.10077926 0.09298666 0.0942105  0.10025476 0.10270243\n",
      " 0.10292722 0.0990559  0.09041411 0.09271192 0.08939008 0.09226235\n",
      " 0.08349568 0.088416   0.09063889 0.09386083 0.09288676 0.09266197\n",
      " 0.08941506 0.08791648 0.09503472 0.09773215 0.1020031  0.10752285\n",
      " 0.10877167 0.10932114 0.10746528 0.11012937 0.11230766 0.11407358\n",
      " 0.11555596 0.11687149 0.11810321 0.11930165 0.12049423 0.12169459\n",
      " 0.12290937 0.12414194 0.1253943  0.12666753]\n",
      "14 day output [[0.12796183]]\n",
      "15 day input [0.06990859 0.06918427 0.06843499 0.07260602 0.07647735 0.07805085\n",
      " 0.07882512 0.08554373 0.09068885 0.0970578  0.09373595 0.09840651\n",
      " 0.09688296 0.09973026 0.10849693 0.10682352 0.10160348 0.09176283\n",
      " 0.10100405 0.09913083 0.1026275  0.10702333 0.10809731 0.10255258\n",
      " 0.09808182 0.09973026 0.10027973 0.09943054 0.10402618 0.10300215\n",
      " 0.10327689 0.10097907 0.10085419 0.09963035 0.10027973 0.10784754\n",
      " 0.10837205 0.11341725 0.11109446 0.10152855 0.10237774 0.10609921\n",
      " 0.1098956  0.10967081 0.1065238  0.10447575 0.10712323 0.11841251\n",
      " 0.11519057 0.11688896 0.11973625 0.12135971 0.12732904 0.12338279\n",
      " 0.12078525 0.10804736 0.10949598 0.10592437 0.10819721 0.10759778\n",
      " 0.10077926 0.09298666 0.0942105  0.10025476 0.10270243 0.10292722\n",
      " 0.0990559  0.09041411 0.09271192 0.08939008 0.09226235 0.08349568\n",
      " 0.088416   0.09063889 0.09386083 0.09288676 0.09266197 0.08941506\n",
      " 0.08791648 0.09503472 0.09773215 0.1020031  0.10752285 0.10877167\n",
      " 0.10932114 0.10746528 0.11012937 0.11230766 0.11407358 0.11555596\n",
      " 0.11687149 0.11810321 0.11930165 0.12049423 0.12169459 0.12290937\n",
      " 0.12414194 0.1253943  0.12666753 0.12796183]\n",
      "15 day output [[0.12927648]]\n",
      "16 day input [0.06918427 0.06843499 0.07260602 0.07647735 0.07805085 0.07882512\n",
      " 0.08554373 0.09068885 0.0970578  0.09373595 0.09840651 0.09688296\n",
      " 0.09973026 0.10849693 0.10682352 0.10160348 0.09176283 0.10100405\n",
      " 0.09913083 0.1026275  0.10702333 0.10809731 0.10255258 0.09808182\n",
      " 0.09973026 0.10027973 0.09943054 0.10402618 0.10300215 0.10327689\n",
      " 0.10097907 0.10085419 0.09963035 0.10027973 0.10784754 0.10837205\n",
      " 0.11341725 0.11109446 0.10152855 0.10237774 0.10609921 0.1098956\n",
      " 0.10967081 0.1065238  0.10447575 0.10712323 0.11841251 0.11519057\n",
      " 0.11688896 0.11973625 0.12135971 0.12732904 0.12338279 0.12078525\n",
      " 0.10804736 0.10949598 0.10592437 0.10819721 0.10759778 0.10077926\n",
      " 0.09298666 0.0942105  0.10025476 0.10270243 0.10292722 0.0990559\n",
      " 0.09041411 0.09271192 0.08939008 0.09226235 0.08349568 0.088416\n",
      " 0.09063889 0.09386083 0.09288676 0.09266197 0.08941506 0.08791648\n",
      " 0.09503472 0.09773215 0.1020031  0.10752285 0.10877167 0.10932114\n",
      " 0.10746528 0.11012937 0.11230766 0.11407358 0.11555596 0.11687149\n",
      " 0.11810321 0.11930165 0.12049423 0.12169459 0.12290937 0.12414194\n",
      " 0.1253943  0.12666753 0.12796183 0.12927648]\n",
      "16 day output [[0.13060994]]\n",
      "17 day input [0.06843499 0.07260602 0.07647735 0.07805085 0.07882512 0.08554373\n",
      " 0.09068885 0.0970578  0.09373595 0.09840651 0.09688296 0.09973026\n",
      " 0.10849693 0.10682352 0.10160348 0.09176283 0.10100405 0.09913083\n",
      " 0.1026275  0.10702333 0.10809731 0.10255258 0.09808182 0.09973026\n",
      " 0.10027973 0.09943054 0.10402618 0.10300215 0.10327689 0.10097907\n",
      " 0.10085419 0.09963035 0.10027973 0.10784754 0.10837205 0.11341725\n",
      " 0.11109446 0.10152855 0.10237774 0.10609921 0.1098956  0.10967081\n",
      " 0.1065238  0.10447575 0.10712323 0.11841251 0.11519057 0.11688896\n",
      " 0.11973625 0.12135971 0.12732904 0.12338279 0.12078525 0.10804736\n",
      " 0.10949598 0.10592437 0.10819721 0.10759778 0.10077926 0.09298666\n",
      " 0.0942105  0.10025476 0.10270243 0.10292722 0.0990559  0.09041411\n",
      " 0.09271192 0.08939008 0.09226235 0.08349568 0.088416   0.09063889\n",
      " 0.09386083 0.09288676 0.09266197 0.08941506 0.08791648 0.09503472\n",
      " 0.09773215 0.1020031  0.10752285 0.10877167 0.10932114 0.10746528\n",
      " 0.11012937 0.11230766 0.11407358 0.11555596 0.11687149 0.11810321\n",
      " 0.11930165 0.12049423 0.12169459 0.12290937 0.12414194 0.1253943\n",
      " 0.12666753 0.12796183 0.12927648 0.13060994]\n",
      "17 day output [[0.13195983]]\n",
      "18 day input [0.07260602 0.07647735 0.07805085 0.07882512 0.08554373 0.09068885\n",
      " 0.0970578  0.09373595 0.09840651 0.09688296 0.09973026 0.10849693\n",
      " 0.10682352 0.10160348 0.09176283 0.10100405 0.09913083 0.1026275\n",
      " 0.10702333 0.10809731 0.10255258 0.09808182 0.09973026 0.10027973\n",
      " 0.09943054 0.10402618 0.10300215 0.10327689 0.10097907 0.10085419\n",
      " 0.09963035 0.10027973 0.10784754 0.10837205 0.11341725 0.11109446\n",
      " 0.10152855 0.10237774 0.10609921 0.1098956  0.10967081 0.1065238\n",
      " 0.10447575 0.10712323 0.11841251 0.11519057 0.11688896 0.11973625\n",
      " 0.12135971 0.12732904 0.12338279 0.12078525 0.10804736 0.10949598\n",
      " 0.10592437 0.10819721 0.10759778 0.10077926 0.09298666 0.0942105\n",
      " 0.10025476 0.10270243 0.10292722 0.0990559  0.09041411 0.09271192\n",
      " 0.08939008 0.09226235 0.08349568 0.088416   0.09063889 0.09386083\n",
      " 0.09288676 0.09266197 0.08941506 0.08791648 0.09503472 0.09773215\n",
      " 0.1020031  0.10752285 0.10877167 0.10932114 0.10746528 0.11012937\n",
      " 0.11230766 0.11407358 0.11555596 0.11687149 0.11810321 0.11930165\n",
      " 0.12049423 0.12169459 0.12290937 0.12414194 0.1253943  0.12666753\n",
      " 0.12796183 0.12927648 0.13060994 0.13195983]\n",
      "18 day output [[0.1333233]]\n",
      "19 day input [0.07647735 0.07805085 0.07882512 0.08554373 0.09068885 0.0970578\n",
      " 0.09373595 0.09840651 0.09688296 0.09973026 0.10849693 0.10682352\n",
      " 0.10160348 0.09176283 0.10100405 0.09913083 0.1026275  0.10702333\n",
      " 0.10809731 0.10255258 0.09808182 0.09973026 0.10027973 0.09943054\n",
      " 0.10402618 0.10300215 0.10327689 0.10097907 0.10085419 0.09963035\n",
      " 0.10027973 0.10784754 0.10837205 0.11341725 0.11109446 0.10152855\n",
      " 0.10237774 0.10609921 0.1098956  0.10967081 0.1065238  0.10447575\n",
      " 0.10712323 0.11841251 0.11519057 0.11688896 0.11973625 0.12135971\n",
      " 0.12732904 0.12338279 0.12078525 0.10804736 0.10949598 0.10592437\n",
      " 0.10819721 0.10759778 0.10077926 0.09298666 0.0942105  0.10025476\n",
      " 0.10270243 0.10292722 0.0990559  0.09041411 0.09271192 0.08939008\n",
      " 0.09226235 0.08349568 0.088416   0.09063889 0.09386083 0.09288676\n",
      " 0.09266197 0.08941506 0.08791648 0.09503472 0.09773215 0.1020031\n",
      " 0.10752285 0.10877167 0.10932114 0.10746528 0.11012937 0.11230766\n",
      " 0.11407358 0.11555596 0.11687149 0.11810321 0.11930165 0.12049423\n",
      " 0.12169459 0.12290937 0.12414194 0.1253943  0.12666753 0.12796183\n",
      " 0.12927648 0.13060994 0.13195983 0.1333233 ]\n",
      "19 day output [[0.13469706]]\n",
      "20 day input [0.07805085 0.07882512 0.08554373 0.09068885 0.0970578  0.09373595\n",
      " 0.09840651 0.09688296 0.09973026 0.10849693 0.10682352 0.10160348\n",
      " 0.09176283 0.10100405 0.09913083 0.1026275  0.10702333 0.10809731\n",
      " 0.10255258 0.09808182 0.09973026 0.10027973 0.09943054 0.10402618\n",
      " 0.10300215 0.10327689 0.10097907 0.10085419 0.09963035 0.10027973\n",
      " 0.10784754 0.10837205 0.11341725 0.11109446 0.10152855 0.10237774\n",
      " 0.10609921 0.1098956  0.10967081 0.1065238  0.10447575 0.10712323\n",
      " 0.11841251 0.11519057 0.11688896 0.11973625 0.12135971 0.12732904\n",
      " 0.12338279 0.12078525 0.10804736 0.10949598 0.10592437 0.10819721\n",
      " 0.10759778 0.10077926 0.09298666 0.0942105  0.10025476 0.10270243\n",
      " 0.10292722 0.0990559  0.09041411 0.09271192 0.08939008 0.09226235\n",
      " 0.08349568 0.088416   0.09063889 0.09386083 0.09288676 0.09266197\n",
      " 0.08941506 0.08791648 0.09503472 0.09773215 0.1020031  0.10752285\n",
      " 0.10877167 0.10932114 0.10746528 0.11012937 0.11230766 0.11407358\n",
      " 0.11555596 0.11687149 0.11810321 0.11930165 0.12049423 0.12169459\n",
      " 0.12290937 0.12414194 0.1253943  0.12666753 0.12796183 0.12927648\n",
      " 0.13060994 0.13195983 0.1333233  0.13469706]\n",
      "20 day output [[0.13607784]]\n",
      "21 day input [0.07882512 0.08554373 0.09068885 0.0970578  0.09373595 0.09840651\n",
      " 0.09688296 0.09973026 0.10849693 0.10682352 0.10160348 0.09176283\n",
      " 0.10100405 0.09913083 0.1026275  0.10702333 0.10809731 0.10255258\n",
      " 0.09808182 0.09973026 0.10027973 0.09943054 0.10402618 0.10300215\n",
      " 0.10327689 0.10097907 0.10085419 0.09963035 0.10027973 0.10784754\n",
      " 0.10837205 0.11341725 0.11109446 0.10152855 0.10237774 0.10609921\n",
      " 0.1098956  0.10967081 0.1065238  0.10447575 0.10712323 0.11841251\n",
      " 0.11519057 0.11688896 0.11973625 0.12135971 0.12732904 0.12338279\n",
      " 0.12078525 0.10804736 0.10949598 0.10592437 0.10819721 0.10759778\n",
      " 0.10077926 0.09298666 0.0942105  0.10025476 0.10270243 0.10292722\n",
      " 0.0990559  0.09041411 0.09271192 0.08939008 0.09226235 0.08349568\n",
      " 0.088416   0.09063889 0.09386083 0.09288676 0.09266197 0.08941506\n",
      " 0.08791648 0.09503472 0.09773215 0.1020031  0.10752285 0.10877167\n",
      " 0.10932114 0.10746528 0.11012937 0.11230766 0.11407358 0.11555596\n",
      " 0.11687149 0.11810321 0.11930165 0.12049423 0.12169459 0.12290937\n",
      " 0.12414194 0.1253943  0.12666753 0.12796183 0.12927648 0.13060994\n",
      " 0.13195983 0.1333233  0.13469706 0.13607784]\n",
      "21 day output [[0.1374624]]\n",
      "22 day input [0.08554373 0.09068885 0.0970578  0.09373595 0.09840651 0.09688296\n",
      " 0.09973026 0.10849693 0.10682352 0.10160348 0.09176283 0.10100405\n",
      " 0.09913083 0.1026275  0.10702333 0.10809731 0.10255258 0.09808182\n",
      " 0.09973026 0.10027973 0.09943054 0.10402618 0.10300215 0.10327689\n",
      " 0.10097907 0.10085419 0.09963035 0.10027973 0.10784754 0.10837205\n",
      " 0.11341725 0.11109446 0.10152855 0.10237774 0.10609921 0.1098956\n",
      " 0.10967081 0.1065238  0.10447575 0.10712323 0.11841251 0.11519057\n",
      " 0.11688896 0.11973625 0.12135971 0.12732904 0.12338279 0.12078525\n",
      " 0.10804736 0.10949598 0.10592437 0.10819721 0.10759778 0.10077926\n",
      " 0.09298666 0.0942105  0.10025476 0.10270243 0.10292722 0.0990559\n",
      " 0.09041411 0.09271192 0.08939008 0.09226235 0.08349568 0.088416\n",
      " 0.09063889 0.09386083 0.09288676 0.09266197 0.08941506 0.08791648\n",
      " 0.09503472 0.09773215 0.1020031  0.10752285 0.10877167 0.10932114\n",
      " 0.10746528 0.11012937 0.11230766 0.11407358 0.11555596 0.11687149\n",
      " 0.11810321 0.11930165 0.12049423 0.12169459 0.12290937 0.12414194\n",
      " 0.1253943  0.12666753 0.12796183 0.12927648 0.13060994 0.13195983\n",
      " 0.1333233  0.13469706 0.13607784 0.13746241]\n",
      "22 day output [[0.13884774]]\n",
      "23 day input [0.09068885 0.0970578  0.09373595 0.09840651 0.09688296 0.09973026\n",
      " 0.10849693 0.10682352 0.10160348 0.09176283 0.10100405 0.09913083\n",
      " 0.1026275  0.10702333 0.10809731 0.10255258 0.09808182 0.09973026\n",
      " 0.10027973 0.09943054 0.10402618 0.10300215 0.10327689 0.10097907\n",
      " 0.10085419 0.09963035 0.10027973 0.10784754 0.10837205 0.11341725\n",
      " 0.11109446 0.10152855 0.10237774 0.10609921 0.1098956  0.10967081\n",
      " 0.1065238  0.10447575 0.10712323 0.11841251 0.11519057 0.11688896\n",
      " 0.11973625 0.12135971 0.12732904 0.12338279 0.12078525 0.10804736\n",
      " 0.10949598 0.10592437 0.10819721 0.10759778 0.10077926 0.09298666\n",
      " 0.0942105  0.10025476 0.10270243 0.10292722 0.0990559  0.09041411\n",
      " 0.09271192 0.08939008 0.09226235 0.08349568 0.088416   0.09063889\n",
      " 0.09386083 0.09288676 0.09266197 0.08941506 0.08791648 0.09503472\n",
      " 0.09773215 0.1020031  0.10752285 0.10877167 0.10932114 0.10746528\n",
      " 0.11012937 0.11230766 0.11407358 0.11555596 0.11687149 0.11810321\n",
      " 0.11930165 0.12049423 0.12169459 0.12290937 0.12414194 0.1253943\n",
      " 0.12666753 0.12796183 0.12927648 0.13060994 0.13195983 0.1333233\n",
      " 0.13469706 0.13607784 0.13746241 0.13884774]\n",
      "23 day output [[0.14023131]]\n",
      "24 day input [0.0970578  0.09373595 0.09840651 0.09688296 0.09973026 0.10849693\n",
      " 0.10682352 0.10160348 0.09176283 0.10100405 0.09913083 0.1026275\n",
      " 0.10702333 0.10809731 0.10255258 0.09808182 0.09973026 0.10027973\n",
      " 0.09943054 0.10402618 0.10300215 0.10327689 0.10097907 0.10085419\n",
      " 0.09963035 0.10027973 0.10784754 0.10837205 0.11341725 0.11109446\n",
      " 0.10152855 0.10237774 0.10609921 0.1098956  0.10967081 0.1065238\n",
      " 0.10447575 0.10712323 0.11841251 0.11519057 0.11688896 0.11973625\n",
      " 0.12135971 0.12732904 0.12338279 0.12078525 0.10804736 0.10949598\n",
      " 0.10592437 0.10819721 0.10759778 0.10077926 0.09298666 0.0942105\n",
      " 0.10025476 0.10270243 0.10292722 0.0990559  0.09041411 0.09271192\n",
      " 0.08939008 0.09226235 0.08349568 0.088416   0.09063889 0.09386083\n",
      " 0.09288676 0.09266197 0.08941506 0.08791648 0.09503472 0.09773215\n",
      " 0.1020031  0.10752285 0.10877167 0.10932114 0.10746528 0.11012937\n",
      " 0.11230766 0.11407358 0.11555596 0.11687149 0.11810321 0.11930165\n",
      " 0.12049423 0.12169459 0.12290937 0.12414194 0.1253943  0.12666753\n",
      " 0.12796183 0.12927648 0.13060994 0.13195983 0.1333233  0.13469706\n",
      " 0.13607784 0.13746241 0.13884774 0.14023131]\n",
      "24 day output [[0.14161092]]\n",
      "25 day input [0.09373595 0.09840651 0.09688296 0.09973026 0.10849693 0.10682352\n",
      " 0.10160348 0.09176283 0.10100405 0.09913083 0.1026275  0.10702333\n",
      " 0.10809731 0.10255258 0.09808182 0.09973026 0.10027973 0.09943054\n",
      " 0.10402618 0.10300215 0.10327689 0.10097907 0.10085419 0.09963035\n",
      " 0.10027973 0.10784754 0.10837205 0.11341725 0.11109446 0.10152855\n",
      " 0.10237774 0.10609921 0.1098956  0.10967081 0.1065238  0.10447575\n",
      " 0.10712323 0.11841251 0.11519057 0.11688896 0.11973625 0.12135971\n",
      " 0.12732904 0.12338279 0.12078525 0.10804736 0.10949598 0.10592437\n",
      " 0.10819721 0.10759778 0.10077926 0.09298666 0.0942105  0.10025476\n",
      " 0.10270243 0.10292722 0.0990559  0.09041411 0.09271192 0.08939008\n",
      " 0.09226235 0.08349568 0.088416   0.09063889 0.09386083 0.09288676\n",
      " 0.09266197 0.08941506 0.08791648 0.09503472 0.09773215 0.1020031\n",
      " 0.10752285 0.10877167 0.10932114 0.10746528 0.11012937 0.11230766\n",
      " 0.11407358 0.11555596 0.11687149 0.11810321 0.11930165 0.12049423\n",
      " 0.12169459 0.12290937 0.12414194 0.1253943  0.12666753 0.12796183\n",
      " 0.12927648 0.13060994 0.13195983 0.1333233  0.13469706 0.13607784\n",
      " 0.13746241 0.13884774 0.14023131 0.14161092]\n",
      "25 day output [[0.1429849]]\n",
      "26 day input [0.09840651 0.09688296 0.09973026 0.10849693 0.10682352 0.10160348\n",
      " 0.09176283 0.10100405 0.09913083 0.1026275  0.10702333 0.10809731\n",
      " 0.10255258 0.09808182 0.09973026 0.10027973 0.09943054 0.10402618\n",
      " 0.10300215 0.10327689 0.10097907 0.10085419 0.09963035 0.10027973\n",
      " 0.10784754 0.10837205 0.11341725 0.11109446 0.10152855 0.10237774\n",
      " 0.10609921 0.1098956  0.10967081 0.1065238  0.10447575 0.10712323\n",
      " 0.11841251 0.11519057 0.11688896 0.11973625 0.12135971 0.12732904\n",
      " 0.12338279 0.12078525 0.10804736 0.10949598 0.10592437 0.10819721\n",
      " 0.10759778 0.10077926 0.09298666 0.0942105  0.10025476 0.10270243\n",
      " 0.10292722 0.0990559  0.09041411 0.09271192 0.08939008 0.09226235\n",
      " 0.08349568 0.088416   0.09063889 0.09386083 0.09288676 0.09266197\n",
      " 0.08941506 0.08791648 0.09503472 0.09773215 0.1020031  0.10752285\n",
      " 0.10877167 0.10932114 0.10746528 0.11012937 0.11230766 0.11407358\n",
      " 0.11555596 0.11687149 0.11810321 0.11930165 0.12049423 0.12169459\n",
      " 0.12290937 0.12414194 0.1253943  0.12666753 0.12796183 0.12927648\n",
      " 0.13060994 0.13195983 0.1333233  0.13469706 0.13607784 0.13746241\n",
      " 0.13884774 0.14023131 0.14161092 0.1429849 ]\n",
      "26 day output [[0.14435199]]\n",
      "27 day input [0.09688296 0.09973026 0.10849693 0.10682352 0.10160348 0.09176283\n",
      " 0.10100405 0.09913083 0.1026275  0.10702333 0.10809731 0.10255258\n",
      " 0.09808182 0.09973026 0.10027973 0.09943054 0.10402618 0.10300215\n",
      " 0.10327689 0.10097907 0.10085419 0.09963035 0.10027973 0.10784754\n",
      " 0.10837205 0.11341725 0.11109446 0.10152855 0.10237774 0.10609921\n",
      " 0.1098956  0.10967081 0.1065238  0.10447575 0.10712323 0.11841251\n",
      " 0.11519057 0.11688896 0.11973625 0.12135971 0.12732904 0.12338279\n",
      " 0.12078525 0.10804736 0.10949598 0.10592437 0.10819721 0.10759778\n",
      " 0.10077926 0.09298666 0.0942105  0.10025476 0.10270243 0.10292722\n",
      " 0.0990559  0.09041411 0.09271192 0.08939008 0.09226235 0.08349568\n",
      " 0.088416   0.09063889 0.09386083 0.09288676 0.09266197 0.08941506\n",
      " 0.08791648 0.09503472 0.09773215 0.1020031  0.10752285 0.10877167\n",
      " 0.10932114 0.10746528 0.11012937 0.11230766 0.11407358 0.11555596\n",
      " 0.11687149 0.11810321 0.11930165 0.12049423 0.12169459 0.12290937\n",
      " 0.12414194 0.1253943  0.12666753 0.12796183 0.12927648 0.13060994\n",
      " 0.13195983 0.1333233  0.13469706 0.13607784 0.13746241 0.13884774\n",
      " 0.14023131 0.14161092 0.1429849  0.14435199]\n",
      "27 day output [[0.1457114]]\n",
      "28 day input [0.09973026 0.10849693 0.10682352 0.10160348 0.09176283 0.10100405\n",
      " 0.09913083 0.1026275  0.10702333 0.10809731 0.10255258 0.09808182\n",
      " 0.09973026 0.10027973 0.09943054 0.10402618 0.10300215 0.10327689\n",
      " 0.10097907 0.10085419 0.09963035 0.10027973 0.10784754 0.10837205\n",
      " 0.11341725 0.11109446 0.10152855 0.10237774 0.10609921 0.1098956\n",
      " 0.10967081 0.1065238  0.10447575 0.10712323 0.11841251 0.11519057\n",
      " 0.11688896 0.11973625 0.12135971 0.12732904 0.12338279 0.12078525\n",
      " 0.10804736 0.10949598 0.10592437 0.10819721 0.10759778 0.10077926\n",
      " 0.09298666 0.0942105  0.10025476 0.10270243 0.10292722 0.0990559\n",
      " 0.09041411 0.09271192 0.08939008 0.09226235 0.08349568 0.088416\n",
      " 0.09063889 0.09386083 0.09288676 0.09266197 0.08941506 0.08791648\n",
      " 0.09503472 0.09773215 0.1020031  0.10752285 0.10877167 0.10932114\n",
      " 0.10746528 0.11012937 0.11230766 0.11407358 0.11555596 0.11687149\n",
      " 0.11810321 0.11930165 0.12049423 0.12169459 0.12290937 0.12414194\n",
      " 0.1253943  0.12666753 0.12796183 0.12927648 0.13060994 0.13195983\n",
      " 0.1333233  0.13469706 0.13607784 0.13746241 0.13884774 0.14023131\n",
      " 0.14161092 0.1429849  0.14435199 0.14571141]\n",
      "28 day output [[0.14706287]]\n",
      "29 day input [0.10849693 0.10682352 0.10160348 0.09176283 0.10100405 0.09913083\n",
      " 0.1026275  0.10702333 0.10809731 0.10255258 0.09808182 0.09973026\n",
      " 0.10027973 0.09943054 0.10402618 0.10300215 0.10327689 0.10097907\n",
      " 0.10085419 0.09963035 0.10027973 0.10784754 0.10837205 0.11341725\n",
      " 0.11109446 0.10152855 0.10237774 0.10609921 0.1098956  0.10967081\n",
      " 0.1065238  0.10447575 0.10712323 0.11841251 0.11519057 0.11688896\n",
      " 0.11973625 0.12135971 0.12732904 0.12338279 0.12078525 0.10804736\n",
      " 0.10949598 0.10592437 0.10819721 0.10759778 0.10077926 0.09298666\n",
      " 0.0942105  0.10025476 0.10270243 0.10292722 0.0990559  0.09041411\n",
      " 0.09271192 0.08939008 0.09226235 0.08349568 0.088416   0.09063889\n",
      " 0.09386083 0.09288676 0.09266197 0.08941506 0.08791648 0.09503472\n",
      " 0.09773215 0.1020031  0.10752285 0.10877167 0.10932114 0.10746528\n",
      " 0.11012937 0.11230766 0.11407358 0.11555596 0.11687149 0.11810321\n",
      " 0.11930165 0.12049423 0.12169459 0.12290937 0.12414194 0.1253943\n",
      " 0.12666753 0.12796183 0.12927648 0.13060994 0.13195983 0.1333233\n",
      " 0.13469706 0.13607784 0.13746241 0.13884774 0.14023131 0.14161092\n",
      " 0.1429849  0.14435199 0.14571141 0.14706287]\n",
      "29 day output [[0.14840622]]\n",
      "[[0.10746528208255768], [0.11012937128543854], [0.11230766028165817], [0.11407358199357986], [0.11555595695972443], [0.11687149107456207], [0.11810320615768433], [0.11930164694786072], [0.12049423158168793], [0.12169459462165833], [0.12290937453508377], [0.12414193898439407], [0.1253942996263504], [0.12666752934455872], [0.12796182930469513], [0.12927648425102234], [0.13060994446277618], [0.13195982575416565], [0.1333232969045639], [0.1346970647573471], [0.13607783615589142], [0.13746240735054016], [0.1388477385044098], [0.14023131132125854], [0.14161092042922974], [0.14298489689826965], [0.144351989030838], [0.14571140706539154], [0.14706286787986755], [0.1484062224626541]]\n"
     ]
    }
   ],
   "source": [
    "## demonstarate prediction for next 30 days\n",
    "\n",
    "from numpy import array\n",
    "\n",
    "lst_output=[]\n",
    "n_steps=100\n",
    "i=0\n",
    "while(i<30):\n",
    "    if(len(temp_input)>100):\n",
    "        #print(temp_input)\n",
    "        x_input=np.array(temp_input[1:])\n",
    "        print(\"{} day input {}\".format(i,x_input))\n",
    "        x_input=x_input.reshape((1, n_steps,1))\n",
    "        #print(x_input)\n",
    "        yhat=model.predict(x_input, verbose=0)\n",
    "        print(\"{} day output {}\".format(i,yhat))\n",
    "        temp_input.extend(yhat[0].tolist())\n",
    "        temp_input=temp_input[1:]\n",
    "        #print(temp_input)\n",
    "        lst_output.extend(yhat.tolist())\n",
    "        i=i+1\n",
    "    else:\n",
    "        x_input = x_input.reshape((1,n_steps,1))\n",
    "        yhat = model.predict(x_input, verbose=0)\n",
    "        print(yhat[0])\n",
    "        temp_input.extend(yhat[0].tolist())\n",
    "        print(len(temp_input))\n",
    "        lst_output.extend(yhat.tolist())\n",
    "        i=i+1\n",
    "print(lst_output)"
   ]
  },
  {
   "cell_type": "code",
   "execution_count": 49,
   "id": "51ea1868",
   "metadata": {},
   "outputs": [],
   "source": [
    "day_new=np.arange(1,101)\n",
    "day_pred=np.arange(101,131)\n"
   ]
  },
  {
   "cell_type": "code",
   "execution_count": 50,
   "id": "c0868627",
   "metadata": {},
   "outputs": [],
   "source": [
    "import matplotlib.pyplot as plt"
   ]
  },
  {
   "cell_type": "code",
   "execution_count": 51,
   "id": "560e077f",
   "metadata": {},
   "outputs": [
    {
     "data": {
      "text/plain": [
       "1258"
      ]
     },
     "execution_count": 51,
     "metadata": {},
     "output_type": "execute_result"
    }
   ],
   "source": [
    "len(df1)"
   ]
  },
  {
   "cell_type": "code",
   "execution_count": 52,
   "id": "50bee05c",
   "metadata": {},
   "outputs": [],
   "source": [
    "df3=df1.tolist()\n",
    "df3.extend(lst_output)"
   ]
  },
  {
   "cell_type": "code",
   "execution_count": 54,
   "id": "86da56fa",
   "metadata": {},
   "outputs": [
    {
     "data": {
      "text/plain": [
       "[<matplotlib.lines.Line2D at 0x1e0065721f0>]"
      ]
     },
     "execution_count": 54,
     "metadata": {},
     "output_type": "execute_result"
    },
    {
     "data": {
      "image/png": "[encoded data removed]",
      "text/plain": [
       "<Figure size 432x288 with 1 Axes>"
      ]
     },
     "metadata": {
      "needs_background": "light"
     },
     "output_type": "display_data"
    }
   ],
   "source": [
    "plt.plot(day_new,scaler.inverse_transform(df1[1158:]))\n",
    "plt.plot(day_pred,scaler.inverse_transform(lst_output))"
   ]
  },
  {
   "cell_type": "code",
   "execution_count": 55,
   "id": "b7fc8b63",
   "metadata": {},
   "outputs": [
    {
     "data": {
      "text/plain": [
       "[<matplotlib.lines.Line2D at 0x1e00654b490>]"
      ]
     },
     "execution_count": 55,
     "metadata": {},
     "output_type": "execute_result"
    },
    {
     "data": {
      "image/png": "[encoded data removed]",
      "text/plain": [
       "<Figure size 432x288 with 1 Axes>"
      ]
     },
     "metadata": {
      "needs_background": "light"
     },
     "output_type": "display_data"
    }
   ],
   "source": [
    "df3=df1.tolist()\n",
    "df3.extend(lst_output)\n",
    "plt.plot(df3[1200:])"
   ]
  },
  {
   "cell_type": "markdown",
   "id": "fac6e771",
   "metadata": {},
   "source": [
    "Conclusion : We can tweak the parameters and see how we can improve the model performance, we can try to train on more epochs, say 200 or even more, increase or decrease the BATCH_SIZE and if it does not change to the better, or play around with N_STEPS and LOOKUP_STEPS and see which combination works best."
   ]
  }
 ],
 "metadata": {
  "kernelspec": {
   "display_name": "Python 3",
   "language": "python",
   "name": "python3"
  },
  "language_info": {
   "codemirror_mode": {
    "name": "ipython",
    "version": 3
   },
   "file_extension": ".py",
   "mimetype": "text/x-python",
   "name": "python",
   "nbconvert_exporter": "python",
   "pygments_lexer": "ipython3",
   "version": "3.8.8"
  }
 },
 "nbformat": 4,
 "nbformat_minor": 5
}
